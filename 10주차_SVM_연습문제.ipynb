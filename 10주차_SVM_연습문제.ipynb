{
  "nbformat": 4,
  "nbformat_minor": 0,
  "metadata": {
    "colab": {
      "name": "10주차_SVM_연습문제.ipynb",
      "provenance": [],
      "collapsed_sections": [],
      "include_colab_link": true
    },
    "kernelspec": {
      "name": "python3",
      "display_name": "Python 3"
    },
    "language_info": {
      "name": "python"
    }
  },
  "cells": [
    {
      "cell_type": "markdown",
      "metadata": {
        "id": "view-in-github",
        "colab_type": "text"
      },
      "source": [
        "<a href=\"https://colab.research.google.com/github/jseeun00/ESAA_2021-2/blob/main/10%EC%A3%BC%EC%B0%A8_SVM_%EC%97%B0%EC%8A%B5%EB%AC%B8%EC%A0%9C.ipynb\" target=\"_parent\"><img src=\"https://colab.research.google.com/assets/colab-badge.svg\" alt=\"Open In Colab\"/></a>"
      ]
    },
    {
      "cell_type": "code",
      "metadata": {
        "id": "lYWK3uHVVqbm"
      },
      "source": [
        "import numpy as np\n",
        "from sklearn import datasets\n",
        "from sklearn.pipeline import Pipeline\n",
        "from sklearn.preprocessing import StandardScaler\n",
        "from sklearn.svm import LinearSVC\n",
        "import matplotlib.pyplot as plt"
      ],
      "execution_count": 19,
      "outputs": []
    },
    {
      "cell_type": "markdown",
      "metadata": {
        "id": "CjaYSVJyWEcc"
      },
      "source": [
        "**2. 서포트 벡터가 무엇인가요?**"
      ]
    },
    {
      "cell_type": "markdown",
      "metadata": {
        "id": "q7aP2nkfXAq5"
      },
      "source": [
        "**답** : 결정경계는 도로 경계에 위치한 샘플에 의해 전적으로 결정되는데 이러한 샘플을 서포트 벡터라고 한다. 도로 바깥쪽에 샘플을 더 추가해도 결정 경계에는 아무런 영향을 미치지 않는다.\n",
        "\n"
      ]
    },
    {
      "cell_type": "markdown",
      "metadata": {
        "id": "l-8URMsSF5-a"
      },
      "source": [
        "**3. SVM을 사용할 때 입력값의 스케일이 왜 중요한가요?**"
      ]
    },
    {
      "cell_type": "markdown",
      "metadata": {
        "id": "uW2v-wnOF8UW"
      },
      "source": [
        "**답** : (206pg) SVM은 특성의 스케일에 민감하기 때문이다. 예를 들어, 수직축의 스케일이 수평축의 스케일보다 훨씬 큰 경우, 결정 경계는 수평축에 거의 평행한다. 따라서 특성의 스케일을 조정해주면 결정 경계가 더 좋아지므로 입력값의 스케일이 중요하다.\n",
        "\n"
      ]
    },
    {
      "cell_type": "markdown",
      "metadata": {
        "id": "TfRaWu4dXDsf"
      },
      "source": [
        "**8. 선형적으로 분리되는 데이터셋에 LinearSVC를 훈련시켜보세요. 그런 다음 같은 데이터셋에 SVC와 SGDClassifier를 적용해보세요. 거의 비슷한 모델이 만들어지는지 확인해보세요.**"
      ]
    },
    {
      "cell_type": "code",
      "metadata": {
        "id": "Fwz70i3mBV-9"
      },
      "source": [
        "# iris data를 로드하고 x,y를 지정해줍니다.\n",
        "#(힌트: 핸즈온 머신러닝 교재 208쪽 참고)\n",
        "import numpy as np\n",
        "from sklearn import datasets\n",
        "from sklearn.pipeline import Pipeline\n",
        "from sklearn.preprocessing import StandardScaler\n",
        "from sklearn.svm import LinearSVC\n",
        "from sklearn.svm import SVC\n",
        "from sklearn.linear_model import SGDClassifier\n",
        "\n",
        "iris = datasets.load_iris()\n",
        "\n",
        "iris = datasets.load_iris()\n",
        "X = iris[\"data\"][:, (2, 3)]  # 꽃잎 길이, 꽃잎 너비\n",
        "y = iris[\"target\"]"
      ],
      "execution_count": 28,
      "outputs": []
    },
    {
      "cell_type": "code",
      "metadata": {
        "id": "3_FHdGvaEE2Q"
      },
      "source": [
        "C = 5 \n",
        "alpha = 1 / (C * len(X))"
      ],
      "execution_count": 10,
      "outputs": []
    },
    {
      "cell_type": "code",
      "metadata": {
        "id": "aupH_y9REIv5",
        "colab": {
          "base_uri": "https://localhost:8080/"
        },
        "outputId": "0e7739fc-2cc8-42e8-f12b-36484b695d7b"
      },
      "source": [
        "# LinearSVC 학습하기\n",
        "lin_svc = LinearSVC(loss='hinge',C=C,random_state=42)\n",
        "svc = SVC(kernel='linear',C=C)\n",
        "sgd_clf = SGDClassifier(loss='hinge', learning_rate = 'constant', eta0=0.001, tol=1e-3,alpha=alpha,\n",
        "                       max_iter=100000, random_state=42)\n",
        "\n",
        "# 위를 이용하여 데이터 스케일링 후 LinearSVC,SVC,SGDClassifier 구하기\n",
        "from sklearn.pipeline import Pipeline\n",
        "\n",
        "scaler = StandardScaler()\n",
        "X_scaled = scaler.fit_transform(X)\n",
        "\n",
        "lin_svc.fit(X_scaled,y)\n",
        "svc.fit(X_scaled,y)\n",
        "sgd_clf.fit(X_scaled,y)\n",
        "\n",
        "print('LinearSVC :',lin_svc.intercept_,lin_svc.coef_)\n",
        "print('SVC :',svc.intercept_,svc.coef_)\n",
        "print('SGDClassifier :',sgd_clf.intercept_,sgd_clf.coef_)"
      ],
      "execution_count": 17,
      "outputs": [
        {
          "output_type": "stream",
          "name": "stdout",
          "text": [
            "LinearSVC : [-3.17999994] [[2.19679117 3.16730946]]\n",
            "SVC : [-3.71602789] [[2.84187135 3.29080461]]\n",
            "SGDClassifier : [-1.394] [[0.97438163 1.33109798]]\n"
          ]
        }
      ]
    },
    {
      "cell_type": "markdown",
      "metadata": {
        "id": "ZbKdd13-HQYB"
      },
      "source": [
        ""
      ]
    },
    {
      "cell_type": "code",
      "metadata": {
        "id": "8tTbQTEpBWIC",
        "colab": {
          "base_uri": "https://localhost:8080/",
          "height": 287
        },
        "outputId": "4ae9a753-8f6b-4201-d769-c6959de9bdb3"
      },
      "source": [
        "# 세 개 모델의 결정 경계를 그리기\n",
        "# 먼저 결정 경계들의 기울기(W)와 편향(b)을 구함\n",
        "w1 = -lin_svc.coef_[0,0] / lin_svc.coef_[0,1]\n",
        "b1 = -lin_svc.intercept_[0] / lin_svc.coef_[0,1]\n",
        "w2 = -svc.coef_[0, 0]/svc.coef_[0, 1]\n",
        "b2 = -svc.intercept_[0]/svc.coef_[0, 1]\n",
        "w3 = -sgd_clf.coef_[0, 0]/sgd_clf.coef_[0, 1]\n",
        "b3 = -sgd_clf.intercept_[0]/sgd_clf.coef_[0, 1]\n",
        "\n",
        "# 결정 결계를 원본 스케일로 변환하기 -> 3개 모델의 범위를 맞추기 위함\n",
        "line1 = scaler.inverse_transform([[-10,-10*w1+b1],[10,10*w1+b1]])\n",
        "line2 = scaler.inverse_transform([[-10,-10*w2+b2],[10,10*w2+b2]])\n",
        "line3 = scaler.inverse_transform([[-10,-10*w3+b3],[10,10*w3+b3]])\n",
        "\n",
        "# 세 개의 결정 경계를 모두 그리기\n",
        "plt.figure(figsize=(11,4))\n",
        "plt.plot(line1[:,0], line1[:,1], \"k:\",label=\"LinearSVC\")\n",
        "plt.plot(line2[:,0],line2[:,1],\"b--\",linewidth=2,label=\"SVC\")\n",
        "plt.plot(line3[:,0],line3[:,1],'r-',label=\"SGDClassifier\")\n",
        "\n",
        "plt.plot(X[:,0][y==1],X[:,1][y==1], 'bs')\n",
        "plt.plot(X[:,0][y==0],X[:,1][y==0],'yo')\n",
        "\n",
        "plt.xlabel(\"Petal length\", fontsize=14)\n",
        "plt.ylabel(\"Petal width\",fontsize=14)\n",
        "plt.legend(loc='upper center',fontsize=14)\n",
        "plt.axis([0,5.5,0,2])\n",
        "plt.show()\n",
        "\n",
        "# 아주 비슷한 결정 경계를 보인다. "
      ],
      "execution_count": 31,
      "outputs": [
        {
          "output_type": "display_data",
          "data": {
            "image/png": "[encoded data removed]",
            "text/plain": [
              "<Figure size 792x288 with 1 Axes>"
            ]
          },
          "metadata": {
            "needs_background": "light"
          }
        }
      ]
    },
    {
      "cell_type": "code",
      "metadata": {
        "id": "ZNG84j53Dm6J"
      },
      "source": [
        "# 너무 어려울 경우 https://leechamin.tistory.com/83 참고 "
      ],
      "execution_count": null,
      "outputs": []
    },
    {
      "cell_type": "code",
      "metadata": {
        "id": "H9xWFRiYDmxo"
      },
      "source": [
        ""
      ],
      "execution_count": null,
      "outputs": []
    }
  ]
}