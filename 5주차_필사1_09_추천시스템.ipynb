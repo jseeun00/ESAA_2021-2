{
  "nbformat": 4,
  "nbformat_minor": 0,
  "metadata": {
    "colab": {
      "name": "5주차_필사1_09. 추천시스템.ipynb",
      "provenance": [],
      "collapsed_sections": [],
      "authorship_tag": "ABX9TyPKq4wR9/xelFgA8rEnO1TN",
      "include_colab_link": true
    },
    "kernelspec": {
      "name": "python3",
      "display_name": "Python 3"
    },
    "language_info": {
      "name": "python"
    }
  },
  "cells": [
    {
      "cell_type": "markdown",
      "metadata": {
        "id": "view-in-github",
        "colab_type": "text"
      },
      "source": [
        "<a href=\"https://colab.research.google.com/github/jseeun00/ESAA_2021-2/blob/main/5%EC%A3%BC%EC%B0%A8_%ED%95%84%EC%82%AC1_09_%EC%B6%94%EC%B2%9C%EC%8B%9C%EC%8A%A4%ED%85%9C.ipynb\" target=\"_parent\"><img src=\"https://colab.research.google.com/assets/colab-badge.svg\" alt=\"Open In Colab\"/></a>"
      ]
    },
    {
      "cell_type": "code",
      "metadata": {
        "id": "LLcbIeOsgWjV"
      },
      "source": [
        "import numpy as np\n",
        "\n",
        "# 원본 행렬 R(4 x 5) 생성, 분해 행렬 P와 Q 초기화, 잠재요인 차원 K는 3으로 설정.\n",
        "R = np.array([[4, np.NaN, np.NaN, 2, np.NaN ],\n",
        "              [np.NaN, 5, np.NaN, 3, 1 ],\n",
        "              [np.NaN, np.NaN, 3, 4, 4 ],\n",
        "              [5, 2, 1, 2, np.NaN ]])\n",
        "\n",
        "num_users, num_items = R.shape\n",
        "K=3\n",
        "\n",
        "# P와 Q 행렬의 크기를 지정하고, 정규 분포를 가진 임의의 값으로 입력합니다.\n",
        "np.random.seed(1)\n",
        "P = np.random.normal(scale=1./K, size=(num_users, K))\n",
        "Q = np.random.normal(scale=1./K, size=(num_items, K))"
      ],
      "execution_count": 1,
      "outputs": []
    },
    {
      "cell_type": "code",
      "metadata": {
        "id": "e8mS64NihENp"
      },
      "source": [
        "from sklearn.metrics import mean_squared_error\n",
        "\n",
        "def get_rmse(R, P, Q, non_zeros):\n",
        "    error = 0\n",
        "    \n",
        "    # 두 개의 분해된 행렬 P와 Q.T의 내적으로 예측 R 행렬 생성\n",
        "    full_pred_matrix = np.dot(P, Q.T)\n",
        "    \n",
        "    # 실제 R 행렬에서 널이 아닌 값의 위치 인덱스 추출해 실제 R 행렬과 예측 행렬의 RMSE 추출\n",
        "    x_non_zero_ind = [non_zero[0] for non_zero in non_zeros]\n",
        "    y_non_zero_ind = [non_zero[1] for non_zero in non_zeros]\n",
        "    R_non_zeros = R[x_non_zero_ind, y_non_zero_ind]\n",
        "    full_pred_matrix_non_zeros = full_pred_matrix[x_non_zero_ind, y_non_zero_ind]\n",
        "    \n",
        "    # RMSE 계산\n",
        "    mse = mean_squared_error(R_non_zeros, full_pred_matrix_non_zeros)\n",
        "    rmse = np.sqrt(mse)\n",
        "    \n",
        "    return rmse\n"
      ],
      "execution_count": 12,
      "outputs": []
    },
    {
      "cell_type": "code",
      "metadata": {
        "colab": {
          "base_uri": "https://localhost:8080/"
        },
        "id": "BSMOGnXOhMSh",
        "outputId": "1455b38f-814a-4cb1-87c6-a2a87b9e3fae"
      },
      "source": [
        "# R > 0 인 행 위치, 열 위치, 값을 non_zeros 리스트에 저장 \n",
        "non_zeros = [ (i, j, R[i,j]) for i in range(num_users) for j in range(num_items) if R[i,j] > 0 ]\n",
        "\n",
        "steps=1000  # SGD 업데이트 횟수\n",
        "learning_rate=0.01  # 학습률\n",
        "r_lambda=0.01  # L2 regularization 계수\n",
        "\n",
        "# SGD 기법으로 P와 Q 행렬을 계속 업데이트.\n",
        "for step in range(steps):\n",
        "    for i, j, r in non_zeros:\n",
        "        # 실제 값과 예측 값의 차이인 오류 값 구함\n",
        "        eij = r - np.dot(P[i, :], Q[j, :].T)\n",
        "        # Regularization을 반영한 SGD 업데이트 공식 적용\n",
        "        P[i,:] = P[i,:] + learning_rate*(eij * Q[j, :] - r_lambda*P[i,:])\n",
        "        Q[j,:] = Q[j,:] + learning_rate*(eij * P[i, :] - r_lambda*Q[j,:])\n",
        "\n",
        "    rmse = get_rmse(R, P, Q, non_zeros)\n",
        "    if (step % 50) == 0 :\n",
        "        print(\"### iteration step : \", step,\" rmse : \", rmse)"
      ],
      "execution_count": 13,
      "outputs": [
        {
          "output_type": "stream",
          "name": "stdout",
          "text": [
            "### iteration step :  0  rmse :  3.106462973977251\n",
            "### iteration step :  50  rmse :  0.411539926709536\n",
            "### iteration step :  100  rmse :  0.14369586500864973\n",
            "### iteration step :  150  rmse :  0.07004813501947217\n",
            "### iteration step :  200  rmse :  0.041324020551916266\n",
            "### iteration step :  250  rmse :  0.02834273266085604\n",
            "### iteration step :  300  rmse :  0.02219191972286278\n",
            "### iteration step :  350  rmse :  0.01929211204485788\n",
            "### iteration step :  400  rmse :  0.01792726971865785\n",
            "### iteration step :  450  rmse :  0.017273303454990275\n",
            "### iteration step :  500  rmse :  0.01695033918959422\n",
            "### iteration step :  550  rmse :  0.016784540431676143\n",
            "### iteration step :  600  rmse :  0.0166943808655161\n",
            "### iteration step :  650  rmse :  0.016640290014224523\n",
            "### iteration step :  700  rmse :  0.016602536864005184\n",
            "### iteration step :  750  rmse :  0.01657118732169371\n",
            "### iteration step :  800  rmse :  0.016541315626967923\n",
            "### iteration step :  850  rmse :  0.016510609679630747\n",
            "### iteration step :  900  rmse :  0.016478127273131755\n",
            "### iteration step :  950  rmse :  0.016443633351078926\n"
          ]
        }
      ]
    },
    {
      "cell_type": "code",
      "metadata": {
        "colab": {
          "base_uri": "https://localhost:8080/"
        },
        "id": "hGigYk66hPF4",
        "outputId": "ffa779e9-7b5b-4345-fbf9-3b4ae2339930"
      },
      "source": [
        "pred_matrix = np.dot(P, Q.T)\n",
        "print('예측 행렬:\\n', np.round(pred_matrix, 3))"
      ],
      "execution_count": 14,
      "outputs": [
        {
          "output_type": "stream",
          "name": "stdout",
          "text": [
            "예측 행렬:\n",
            " [[3.991 0.898 1.306 2.002 1.663]\n",
            " [6.694 4.978 0.978 2.981 1.003]\n",
            " [6.675 0.394 2.987 3.977 3.986]\n",
            " [4.968 2.005 1.006 2.017 1.141]]\n"
          ]
        }
      ]
    }
  ]
}