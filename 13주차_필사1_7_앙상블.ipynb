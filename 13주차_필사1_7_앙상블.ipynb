{
  "nbformat": 4,
  "nbformat_minor": 0,
  "metadata": {
    "colab": {
      "name": "13주차_필사1_7.앙상블.ipynb",
      "provenance": [],
      "authorship_tag": "ABX9TyMkGw3JdL4JDhhuZ/89+x/C",
      "include_colab_link": true
    },
    "kernelspec": {
      "name": "python3",
      "display_name": "Python 3"
    },
    "language_info": {
      "name": "python"
    }
  },
  "cells": [
    {
      "cell_type": "markdown",
      "metadata": {
        "id": "view-in-github",
        "colab_type": "text"
      },
      "source": [
        "<a href=\"https://colab.research.google.com/github/jseeun00/ESAA_2021-2/blob/main/13%EC%A3%BC%EC%B0%A8_%ED%95%84%EC%82%AC1_7_%EC%95%99%EC%83%81%EB%B8%94.ipynb\" target=\"_parent\"><img src=\"https://colab.research.google.com/assets/colab-badge.svg\" alt=\"Open In Colab\"/></a>"
      ]
    },
    {
      "cell_type": "markdown",
      "metadata": {
        "id": "aUeD29IhQbAC"
      },
      "source": [
        "#**CH7. 앙상블 학습과 랜덤 포레스트**"
      ]
    },
    {
      "cell_type": "code",
      "metadata": {
        "id": "2slSnC9BPuB7"
      },
      "source": [
        "from sklearn.model_selection import train_test_split\n",
        "from sklearn.datasets import make_moons\n",
        "\n",
        "X, y = make_moons(n_samples=500, noise=0.30, random_state=42)\n",
        "X_train, X_test, y_train, y_test = train_test_split(X, y, random_state=42)"
      ],
      "execution_count": 1,
      "outputs": []
    },
    {
      "cell_type": "markdown",
      "metadata": {
        "id": "2joSgDxtQWTS"
      },
      "source": [
        "##**7.1 투표 기반 분류기**"
      ]
    },
    {
      "cell_type": "code",
      "metadata": {
        "colab": {
          "base_uri": "https://localhost:8080/"
        },
        "id": "gQYukSAZPt-2",
        "outputId": "c0c0be6d-214d-425b-b914-f30fb05a77ef"
      },
      "source": [
        "from sklearn.ensemble import RandomForestClassifier\n",
        "from sklearn.ensemble import VotingClassifier\n",
        "from sklearn.linear_model import LogisticRegression\n",
        "from sklearn.svm import SVC\n",
        "\n",
        "log_clf = LogisticRegression()\n",
        "rnd_clf = RandomForestClassifier()\n",
        "svm_clf = SVC()\n",
        "\n",
        "voting_clf = VotingClassifier(\n",
        "    estimators=[('lr', log_clf), ('rf', rnd_clf), ('svc', svm_clf)],\n",
        "    voting='hard')\n",
        "voting_clf.fit(X_train, y_train)"
      ],
      "execution_count": 2,
      "outputs": [
        {
          "output_type": "execute_result",
          "data": {
            "text/plain": [
              "VotingClassifier(estimators=[('lr', LogisticRegression()),\n",
              "                             ('rf', RandomForestClassifier()), ('svc', SVC())])"
            ]
          },
          "metadata": {},
          "execution_count": 2
        }
      ]
    },
    {
      "cell_type": "code",
      "metadata": {
        "colab": {
          "base_uri": "https://localhost:8080/"
        },
        "id": "iBB_gj5OPt7s",
        "outputId": "fb87959f-29d4-4ac6-b8b4-5c95cabef290"
      },
      "source": [
        "from sklearn.metrics import accuracy_score\n",
        "\n",
        "for clf in (log_clf, rnd_clf, svm_clf, voting_clf):\n",
        "    clf.fit(X_train, y_train)\n",
        "    y_pred = clf.predict(X_test)\n",
        "    print(clf.__class__.__name__, accuracy_score(y_test, y_pred))"
      ],
      "execution_count": 3,
      "outputs": [
        {
          "output_type": "stream",
          "name": "stdout",
          "text": [
            "LogisticRegression 0.864\n",
            "RandomForestClassifier 0.896\n",
            "SVC 0.896\n",
            "VotingClassifier 0.904\n"
          ]
        }
      ]
    },
    {
      "cell_type": "markdown",
      "metadata": {
        "id": "l_dI8rbPQSOX"
      },
      "source": [
        "##**7.2 배깅과 페이스팅**"
      ]
    },
    {
      "cell_type": "code",
      "metadata": {
        "id": "N4aA2WnaPt5B"
      },
      "source": [
        "from sklearn.ensemble import BaggingClassifier\n",
        "from sklearn.tree import DecisionTreeClassifier\n",
        "\n",
        "bag_clf = BaggingClassifier(\n",
        "    DecisionTreeClassifier(), n_estimators=500,\n",
        "    max_samples=100, bootstrap=True, n_jobs=-1)\n",
        "bag_clf.fit(X_train, y_train)\n",
        "y_pred = bag_clf.predict(X_test)"
      ],
      "execution_count": 4,
      "outputs": []
    },
    {
      "cell_type": "code",
      "metadata": {
        "id": "1ggPsJ_BPt2b"
      },
      "source": [
        "bag_clf = BaggingClassifier(\n",
        "    DecisionTreeClassifier(),\n",
        "    n_estimators=500, bootstrap=True, n_jobs=-1, oob_score = True)"
      ],
      "execution_count": 5,
      "outputs": []
    },
    {
      "cell_type": "code",
      "metadata": {
        "colab": {
          "base_uri": "https://localhost:8080/"
        },
        "id": "YuNgK3FIPt0N",
        "outputId": "7658e1c6-1451-4cac-efd3-0a9601db306b"
      },
      "source": [
        "bag_clf.fit(X_train, y_train)\n",
        "bag_clf.oob_score_"
      ],
      "execution_count": 6,
      "outputs": [
        {
          "output_type": "execute_result",
          "data": {
            "text/plain": [
              "0.8986666666666666"
            ]
          },
          "metadata": {},
          "execution_count": 6
        }
      ]
    },
    {
      "cell_type": "code",
      "metadata": {
        "colab": {
          "base_uri": "https://localhost:8080/"
        },
        "id": "VNHiMQCVPtxf",
        "outputId": "1a1a8b8e-c71a-4f17-f22d-b1e6c791bb02"
      },
      "source": [
        "from sklearn.metrics import accuracy_score\n",
        "y_pred = bag_clf.predict(X_test)\n",
        "accuracy_score(y_test,y_pred)"
      ],
      "execution_count": 7,
      "outputs": [
        {
          "output_type": "execute_result",
          "data": {
            "text/plain": [
              "0.912"
            ]
          },
          "metadata": {},
          "execution_count": 7
        }
      ]
    },
    {
      "cell_type": "code",
      "metadata": {
        "colab": {
          "base_uri": "https://localhost:8080/"
        },
        "id": "wDEqs_LePnC5",
        "outputId": "d256bd1d-48cd-4b74-d070-12eed231a6da"
      },
      "source": [
        "bag_clf.oob_decision_function_"
      ],
      "execution_count": 8,
      "outputs": [
        {
          "output_type": "execute_result",
          "data": {
            "text/plain": [
              "array([[0.44508671, 0.55491329],\n",
              "       [0.37288136, 0.62711864],\n",
              "       [1.        , 0.        ],\n",
              "       [0.        , 1.        ],\n",
              "       [0.        , 1.        ],\n",
              "       [0.1299435 , 0.8700565 ],\n",
              "       [0.37128713, 0.62871287],\n",
              "       [0.01142857, 0.98857143],\n",
              "       [0.98816568, 0.01183432],\n",
              "       [0.97191011, 0.02808989],\n",
              "       [0.71584699, 0.28415301],\n",
              "       [0.00531915, 0.99468085],\n",
              "       [0.75384615, 0.24615385],\n",
              "       [0.81065089, 0.18934911],\n",
              "       [0.94086022, 0.05913978],\n",
              "       [0.06214689, 0.93785311],\n",
              "       [0.        , 1.        ],\n",
              "       [0.98876404, 0.01123596],\n",
              "       [0.95336788, 0.04663212],\n",
              "       [1.        , 0.        ],\n",
              "       [0.015     , 0.985     ],\n",
              "       [0.3045977 , 0.6954023 ],\n",
              "       [0.92178771, 0.07821229],\n",
              "       [1.        , 0.        ],\n",
              "       [0.97814208, 0.02185792],\n",
              "       [0.        , 1.        ],\n",
              "       [1.        , 0.        ],\n",
              "       [1.        , 0.        ],\n",
              "       [0.        , 1.        ],\n",
              "       [0.63333333, 0.36666667],\n",
              "       [0.        , 1.        ],\n",
              "       [1.        , 0.        ],\n",
              "       [0.        , 1.        ],\n",
              "       [0.        , 1.        ],\n",
              "       [0.22099448, 0.77900552],\n",
              "       [1.        , 0.        ],\n",
              "       [0.        , 1.        ],\n",
              "       [0.35326087, 0.64673913],\n",
              "       [0.        , 1.        ],\n",
              "       [1.        , 0.        ],\n",
              "       [0.23626374, 0.76373626],\n",
              "       [0.3172043 , 0.6827957 ],\n",
              "       [1.        , 0.        ],\n",
              "       [1.        , 0.        ],\n",
              "       [0.        , 1.        ],\n",
              "       [1.        , 0.        ],\n",
              "       [1.        , 0.        ],\n",
              "       [0.01052632, 0.98947368],\n",
              "       [1.        , 0.        ],\n",
              "       [0.00568182, 0.99431818],\n",
              "       [0.98305085, 0.01694915],\n",
              "       [0.86666667, 0.13333333],\n",
              "       [0.97252747, 0.02747253],\n",
              "       [0.97014925, 0.02985075],\n",
              "       [0.        , 1.        ],\n",
              "       [0.046875  , 0.953125  ],\n",
              "       [1.        , 0.        ],\n",
              "       [0.00518135, 0.99481865],\n",
              "       [0.        , 1.        ],\n",
              "       [0.00571429, 0.99428571],\n",
              "       [1.        , 0.        ],\n",
              "       [0.83333333, 0.16666667],\n",
              "       [0.34394904, 0.65605096],\n",
              "       [1.        , 0.        ],\n",
              "       [0.        , 1.        ],\n",
              "       [0.68341709, 0.31658291],\n",
              "       [1.        , 0.        ],\n",
              "       [1.        , 0.        ],\n",
              "       [0.8423913 , 0.1576087 ],\n",
              "       [1.        , 0.        ],\n",
              "       [0.68717949, 0.31282051],\n",
              "       [0.09444444, 0.90555556],\n",
              "       [0.61988304, 0.38011696],\n",
              "       [0.885     , 0.115     ],\n",
              "       [0.        , 1.        ],\n",
              "       [0.16111111, 0.83888889],\n",
              "       [0.86111111, 0.13888889],\n",
              "       [1.        , 0.        ],\n",
              "       [0.        , 1.        ],\n",
              "       [1.        , 0.        ],\n",
              "       [0.        , 1.        ],\n",
              "       [0.03825137, 0.96174863],\n",
              "       [0.02538071, 0.97461929],\n",
              "       [0.31868132, 0.68131868],\n",
              "       [1.        , 0.        ],\n",
              "       [0.        , 1.        ],\n",
              "       [0.84571429, 0.15428571],\n",
              "       [0.        , 1.        ],\n",
              "       [0.        , 1.        ],\n",
              "       [0.        , 1.        ],\n",
              "       [0.31868132, 0.68131868],\n",
              "       [1.        , 0.        ],\n",
              "       [0.        , 1.        ],\n",
              "       [0.        , 1.        ],\n",
              "       [0.        , 1.        ],\n",
              "       [0.91509434, 0.08490566],\n",
              "       [0.81920904, 0.18079096],\n",
              "       [0.        , 1.        ],\n",
              "       [1.        , 0.        ],\n",
              "       [0.21276596, 0.78723404],\n",
              "       [0.64646465, 0.35353535],\n",
              "       [0.        , 1.        ],\n",
              "       [0.03932584, 0.96067416],\n",
              "       [0.56701031, 0.43298969],\n",
              "       [1.        , 0.        ],\n",
              "       [0.02094241, 0.97905759],\n",
              "       [1.        , 0.        ],\n",
              "       [0.26380368, 0.73619632],\n",
              "       [0.44845361, 0.55154639],\n",
              "       [1.        , 0.        ],\n",
              "       [0.02985075, 0.97014925],\n",
              "       [0.99465241, 0.00534759],\n",
              "       [0.23157895, 0.76842105],\n",
              "       [0.97435897, 0.02564103],\n",
              "       [1.        , 0.        ],\n",
              "       [1.        , 0.        ],\n",
              "       [0.        , 1.        ],\n",
              "       [0.        , 1.        ],\n",
              "       [0.7967033 , 0.2032967 ],\n",
              "       [1.        , 0.        ],\n",
              "       [0.00465116, 0.99534884],\n",
              "       [1.        , 0.        ],\n",
              "       [1.        , 0.        ],\n",
              "       [1.        , 0.        ],\n",
              "       [0.99428571, 0.00571429],\n",
              "       [1.        , 0.        ],\n",
              "       [0.        , 1.        ],\n",
              "       [0.96703297, 0.03296703],\n",
              "       [1.        , 0.        ],\n",
              "       [0.0297619 , 0.9702381 ],\n",
              "       [0.24561404, 0.75438596],\n",
              "       [0.96666667, 0.03333333],\n",
              "       [0.30890052, 0.69109948],\n",
              "       [0.98787879, 0.01212121],\n",
              "       [0.        , 1.        ],\n",
              "       [0.        , 1.        ],\n",
              "       [0.6741573 , 0.3258427 ],\n",
              "       [0.45959596, 0.54040404],\n",
              "       [0.4010989 , 0.5989011 ],\n",
              "       [0.85875706, 0.14124294],\n",
              "       [0.91954023, 0.08045977],\n",
              "       [0.05494505, 0.94505495],\n",
              "       [0.79428571, 0.20571429],\n",
              "       [0.        , 1.        ],\n",
              "       [0.        , 1.        ],\n",
              "       [0.015625  , 0.984375  ],\n",
              "       [0.99450549, 0.00549451],\n",
              "       [1.        , 0.        ],\n",
              "       [1.        , 0.        ],\n",
              "       [0.        , 1.        ],\n",
              "       [0.        , 1.        ],\n",
              "       [0.01648352, 0.98351648],\n",
              "       [0.00543478, 0.99456522],\n",
              "       [1.        , 0.        ],\n",
              "       [1.        , 0.        ],\n",
              "       [0.97740113, 0.02259887],\n",
              "       [1.        , 0.        ],\n",
              "       [1.        , 0.        ],\n",
              "       [1.        , 0.        ],\n",
              "       [0.        , 1.        ],\n",
              "       [0.37894737, 0.62105263],\n",
              "       [0.30150754, 0.69849246],\n",
              "       [0.        , 1.        ],\n",
              "       [0.        , 1.        ],\n",
              "       [0.30357143, 0.69642857],\n",
              "       [1.        , 0.        ],\n",
              "       [1.        , 0.        ],\n",
              "       [0.        , 1.        ],\n",
              "       [1.        , 0.        ],\n",
              "       [0.00568182, 0.99431818],\n",
              "       [0.        , 1.        ],\n",
              "       [0.98305085, 0.01694915],\n",
              "       [0.        , 1.        ],\n",
              "       [0.        , 1.        ],\n",
              "       [1.        , 0.        ],\n",
              "       [0.        , 1.        ],\n",
              "       [0.67010309, 0.32989691],\n",
              "       [0.92682927, 0.07317073],\n",
              "       [0.        , 1.        ],\n",
              "       [1.        , 0.        ],\n",
              "       [1.        , 0.        ],\n",
              "       [1.        , 0.        ],\n",
              "       [0.        , 1.        ],\n",
              "       [0.        , 1.        ],\n",
              "       [1.        , 0.        ],\n",
              "       [0.09189189, 0.90810811],\n",
              "       [1.        , 0.        ],\n",
              "       [0.0273224 , 0.9726776 ],\n",
              "       [0.        , 1.        ],\n",
              "       [1.        , 0.        ],\n",
              "       [0.        , 1.        ],\n",
              "       [0.02824859, 0.97175141],\n",
              "       [0.99456522, 0.00543478],\n",
              "       [0.92473118, 0.07526882],\n",
              "       [0.73655914, 0.26344086],\n",
              "       [0.64179104, 0.35820896],\n",
              "       [0.        , 1.        ],\n",
              "       [0.17142857, 0.82857143],\n",
              "       [1.        , 0.        ],\n",
              "       [0.97777778, 0.02222222],\n",
              "       [0.98224852, 0.01775148],\n",
              "       [1.        , 0.        ],\n",
              "       [0.        , 1.        ],\n",
              "       [0.        , 1.        ],\n",
              "       [0.45054945, 0.54945055],\n",
              "       [0.86931818, 0.13068182],\n",
              "       [0.        , 1.        ],\n",
              "       [0.        , 1.        ],\n",
              "       [1.        , 0.        ],\n",
              "       [0.02840909, 0.97159091],\n",
              "       [0.00531915, 0.99468085],\n",
              "       [0.95402299, 0.04597701],\n",
              "       [0.        , 1.        ],\n",
              "       [0.23529412, 0.76470588],\n",
              "       [0.        , 1.        ],\n",
              "       [1.        , 0.        ],\n",
              "       [0.        , 1.        ],\n",
              "       [0.        , 1.        ],\n",
              "       [0.97765363, 0.02234637],\n",
              "       [0.81538462, 0.18461538],\n",
              "       [1.        , 0.        ],\n",
              "       [0.        , 1.        ],\n",
              "       [0.10526316, 0.89473684],\n",
              "       [0.99411765, 0.00588235],\n",
              "       [0.03910615, 0.96089385],\n",
              "       [0.        , 1.        ],\n",
              "       [0.05617978, 0.94382022],\n",
              "       [1.        , 0.        ],\n",
              "       [0.78010471, 0.21989529],\n",
              "       [0.00540541, 0.99459459],\n",
              "       [0.8974359 , 0.1025641 ],\n",
              "       [0.97237569, 0.02762431],\n",
              "       [0.22335025, 0.77664975],\n",
              "       [0.24064171, 0.75935829],\n",
              "       [1.        , 0.        ],\n",
              "       [0.        , 1.        ],\n",
              "       [0.        , 1.        ],\n",
              "       [0.        , 1.        ],\n",
              "       [0.29834254, 0.70165746],\n",
              "       [0.96449704, 0.03550296],\n",
              "       [0.        , 1.        ],\n",
              "       [1.        , 0.        ],\n",
              "       [1.        , 0.        ],\n",
              "       [0.        , 1.        ],\n",
              "       [0.53448276, 0.46551724],\n",
              "       [1.        , 0.        ],\n",
              "       [0.00549451, 0.99450549],\n",
              "       [1.        , 0.        ],\n",
              "       [0.        , 1.        ],\n",
              "       [0.        , 1.        ],\n",
              "       [0.09289617, 0.90710383],\n",
              "       [0.08108108, 0.91891892],\n",
              "       [0.99447514, 0.00552486],\n",
              "       [0.01734104, 0.98265896],\n",
              "       [1.        , 0.        ],\n",
              "       [0.4127907 , 0.5872093 ],\n",
              "       [0.09444444, 0.90555556],\n",
              "       [0.58375635, 0.41624365],\n",
              "       [0.62365591, 0.37634409],\n",
              "       [0.        , 1.        ],\n",
              "       [1.        , 0.        ],\n",
              "       [0.        , 1.        ],\n",
              "       [0.        , 1.        ],\n",
              "       [0.63291139, 0.36708861],\n",
              "       [0.        , 1.        ],\n",
              "       [1.        , 0.        ],\n",
              "       [0.265625  , 0.734375  ],\n",
              "       [0.81318681, 0.18681319],\n",
              "       [0.08484848, 0.91515152],\n",
              "       [1.        , 0.        ],\n",
              "       [0.83522727, 0.16477273],\n",
              "       [0.        , 1.        ],\n",
              "       [0.00555556, 0.99444444],\n",
              "       [0.08988764, 0.91011236],\n",
              "       [0.01851852, 0.98148148],\n",
              "       [0.        , 1.        ],\n",
              "       [0.98888889, 0.01111111],\n",
              "       [0.88888889, 0.11111111],\n",
              "       [0.17222222, 0.82777778],\n",
              "       [0.95054945, 0.04945055],\n",
              "       [0.        , 1.        ],\n",
              "       [0.640625  , 0.359375  ],\n",
              "       [0.06944444, 0.93055556],\n",
              "       [0.97916667, 0.02083333],\n",
              "       [0.78534031, 0.21465969],\n",
              "       [0.        , 1.        ],\n",
              "       [1.        , 0.        ],\n",
              "       [0.96517413, 0.03482587],\n",
              "       [0.        , 1.        ],\n",
              "       [0.        , 1.        ],\n",
              "       [1.        , 0.        ],\n",
              "       [0.        , 1.        ],\n",
              "       [1.        , 0.        ],\n",
              "       [0.31395349, 0.68604651],\n",
              "       [0.99489796, 0.00510204],\n",
              "       [1.        , 0.        ],\n",
              "       [0.        , 1.        ],\n",
              "       [0.01123596, 0.98876404],\n",
              "       [0.82857143, 0.17142857],\n",
              "       [0.        , 1.        ],\n",
              "       [1.        , 0.        ],\n",
              "       [0.8079096 , 0.1920904 ],\n",
              "       [0.96153846, 0.03846154],\n",
              "       [1.        , 0.        ],\n",
              "       [0.75      , 0.25      ],\n",
              "       [0.51445087, 0.48554913],\n",
              "       [0.        , 1.        ],\n",
              "       [0.93298969, 0.06701031],\n",
              "       [0.        , 1.        ],\n",
              "       [1.        , 0.        ],\n",
              "       [0.92391304, 0.07608696],\n",
              "       [1.        , 0.        ],\n",
              "       [1.        , 0.        ],\n",
              "       [0.75980392, 0.24019608],\n",
              "       [0.125     , 0.875     ],\n",
              "       [0.48275862, 0.51724138],\n",
              "       [0.25870647, 0.74129353],\n",
              "       [0.        , 1.        ],\n",
              "       [0.87640449, 0.12359551],\n",
              "       [0.85483871, 0.14516129],\n",
              "       [0.        , 1.        ],\n",
              "       [1.        , 0.        ],\n",
              "       [0.9947644 , 0.0052356 ],\n",
              "       [1.        , 0.        ],\n",
              "       [0.        , 1.        ],\n",
              "       [0.01156069, 0.98843931],\n",
              "       [0.97191011, 0.02808989],\n",
              "       [0.95628415, 0.04371585],\n",
              "       [1.        , 0.        ],\n",
              "       [0.53403141, 0.46596859],\n",
              "       [1.        , 0.        ],\n",
              "       [0.00531915, 0.99468085],\n",
              "       [0.99465241, 0.00534759],\n",
              "       [0.01117318, 0.98882682],\n",
              "       [1.        , 0.        ],\n",
              "       [1.        , 0.        ],\n",
              "       [1.        , 0.        ],\n",
              "       [0.        , 1.        ],\n",
              "       [0.97777778, 0.02222222],\n",
              "       [0.        , 1.        ],\n",
              "       [0.06666667, 0.93333333],\n",
              "       [0.        , 1.        ],\n",
              "       [0.        , 1.        ],\n",
              "       [1.        , 0.        ],\n",
              "       [1.        , 0.        ],\n",
              "       [0.        , 1.        ],\n",
              "       [0.99421965, 0.00578035],\n",
              "       [0.0104712 , 0.9895288 ],\n",
              "       [1.        , 0.        ],\n",
              "       [0.19254658, 0.80745342],\n",
              "       [0.        , 1.        ],\n",
              "       [0.00568182, 0.99431818],\n",
              "       [0.        , 1.        ],\n",
              "       [0.40437158, 0.59562842],\n",
              "       [0.05612245, 0.94387755],\n",
              "       [0.21264368, 0.78735632],\n",
              "       [1.        , 0.        ],\n",
              "       [1.        , 0.        ],\n",
              "       [0.15116279, 0.84883721],\n",
              "       [0.99468085, 0.00531915],\n",
              "       [0.        , 1.        ],\n",
              "       [0.00552486, 0.99447514],\n",
              "       [1.        , 0.        ],\n",
              "       [0.95477387, 0.04522613],\n",
              "       [0.32386364, 0.67613636],\n",
              "       [0.99450549, 0.00549451],\n",
              "       [1.        , 0.        ],\n",
              "       [0.        , 1.        ],\n",
              "       [1.        , 0.        ],\n",
              "       [0.        , 1.        ],\n",
              "       [0.02717391, 0.97282609],\n",
              "       [1.        , 0.        ],\n",
              "       [1.        , 0.        ],\n",
              "       [0.03883495, 0.96116505],\n",
              "       [0.59064327, 0.40935673]])"
            ]
          },
          "metadata": {},
          "execution_count": 8
        }
      ]
    },
    {
      "cell_type": "markdown",
      "metadata": {
        "id": "JIY6yqwAQx37"
      },
      "source": [
        "##**7.4. 랜덤 포레스트**"
      ]
    },
    {
      "cell_type": "code",
      "metadata": {
        "id": "ouhJgELUP6WH"
      },
      "source": [
        "from sklearn.ensemble import RandomForestClassifier\n",
        "\n",
        "rnd_clf = RandomForestClassifier(n_estimators=500, max_leaf_nodes=16, n_jobs=-1)\n",
        "rnd_clf.fit(X_train, y_train)\n",
        "\n",
        "y_pred_rf = rnd_clf.predict(X_test)"
      ],
      "execution_count": 9,
      "outputs": []
    },
    {
      "cell_type": "code",
      "metadata": {
        "id": "omUlwAocP6Tt"
      },
      "source": [
        "bag_clf = BaggingClassifier(DecisionTreeClassifier(max_features=\"auto\",max_leaf_nodes=16),\n",
        "                           n_estimators = 500, max_samples=1.0, bootstrap=True, n_jobs=-1)"
      ],
      "execution_count": 10,
      "outputs": []
    },
    {
      "cell_type": "code",
      "metadata": {
        "colab": {
          "base_uri": "https://localhost:8080/"
        },
        "id": "mfJl43i3P6Pz",
        "outputId": "e11fe6d6-b14a-4f19-bfd0-6e03958d8c6c"
      },
      "source": [
        "from sklearn.datasets import load_iris\n",
        "iris = load_iris()\n",
        "rnd_clf = RandomForestClassifier(n_estimators = 500, n_jobs = -1)\n",
        "rnd_clf.fit(iris[\"data\"], iris[\"target\"])\n",
        "for name, score in zip(iris[\"feature_names\"], rnd_clf.feature_importances_):\n",
        "    print(name,score)"
      ],
      "execution_count": 11,
      "outputs": [
        {
          "output_type": "stream",
          "name": "stdout",
          "text": [
            "sepal length (cm) 0.09706288184492083\n",
            "sepal width (cm) 0.023409093045636348\n",
            "petal length (cm) 0.45522977297992856\n",
            "petal width (cm) 0.4242982521295144\n"
          ]
        }
      ]
    },
    {
      "cell_type": "markdown",
      "metadata": {
        "id": "kKgfqqc7RBkD"
      },
      "source": [
        "##**7.5 부스팅**"
      ]
    },
    {
      "cell_type": "code",
      "metadata": {
        "colab": {
          "base_uri": "https://localhost:8080/"
        },
        "id": "KYY245leP-pO",
        "outputId": "76f946e9-87f0-4644-9861-3db72c04e5b2"
      },
      "source": [
        "from sklearn.ensemble import AdaBoostClassifier\n",
        "\n",
        "ada_clf = AdaBoostClassifier(\n",
        "    DecisionTreeClassifier(max_depth=1), n_estimators=200,\n",
        "    algorithm=\"SAMME.R\", learning_rate=0.5)\n",
        "ada_clf.fit(X_train, y_train)"
      ],
      "execution_count": 12,
      "outputs": [
        {
          "output_type": "execute_result",
          "data": {
            "text/plain": [
              "AdaBoostClassifier(base_estimator=DecisionTreeClassifier(max_depth=1),\n",
              "                   learning_rate=0.5, n_estimators=200)"
            ]
          },
          "metadata": {},
          "execution_count": 12
        }
      ]
    },
    {
      "cell_type": "code",
      "metadata": {
        "colab": {
          "base_uri": "https://localhost:8080/"
        },
        "id": "ZhWQM4O2P-mS",
        "outputId": "d5d5bd75-5a6e-4938-faae-f9772b733a2c"
      },
      "source": [
        "from sklearn.tree import DecisionTreeRegressor\n",
        "\n",
        "tree_reg1 = DecisionTreeRegressor(max_depth=2)\n",
        "tree_reg1.fit(X, y)"
      ],
      "execution_count": 13,
      "outputs": [
        {
          "output_type": "execute_result",
          "data": {
            "text/plain": [
              "DecisionTreeRegressor(max_depth=2)"
            ]
          },
          "metadata": {},
          "execution_count": 13
        }
      ]
    },
    {
      "cell_type": "code",
      "metadata": {
        "colab": {
          "base_uri": "https://localhost:8080/"
        },
        "id": "3tAF7W5NP-iD",
        "outputId": "0da6cc1d-c903-4f05-9341-8465218cc579"
      },
      "source": [
        "y2 = y - tree_reg1.predict(X)\n",
        "tree_reg2 = DecisionTreeRegressor(max_depth=2)\n",
        "tree_reg2.fit(X, y2)"
      ],
      "execution_count": 14,
      "outputs": [
        {
          "output_type": "execute_result",
          "data": {
            "text/plain": [
              "DecisionTreeRegressor(max_depth=2)"
            ]
          },
          "metadata": {},
          "execution_count": 14
        }
      ]
    },
    {
      "cell_type": "code",
      "metadata": {
        "colab": {
          "base_uri": "https://localhost:8080/"
        },
        "id": "epsEjYLPP-eo",
        "outputId": "f5de1f22-07c3-485d-afe9-9a6a8b2839dd"
      },
      "source": [
        "y3 = y2 - tree_reg2.predict(X)\n",
        "tree_reg3 = DecisionTreeRegressor(max_depth=2)\n",
        "tree_reg3.fit(X, y3)"
      ],
      "execution_count": 15,
      "outputs": [
        {
          "output_type": "execute_result",
          "data": {
            "text/plain": [
              "DecisionTreeRegressor(max_depth=2)"
            ]
          },
          "metadata": {},
          "execution_count": 15
        }
      ]
    },
    {
      "cell_type": "code",
      "metadata": {
        "id": "o_NQWOnWRNSg"
      },
      "source": [
        "#y_pred = sum(tree.predict(X_new) for tree in (tree_reg1, tree_reg2, tree_reg3))"
      ],
      "execution_count": 17,
      "outputs": []
    },
    {
      "cell_type": "code",
      "metadata": {
        "colab": {
          "base_uri": "https://localhost:8080/"
        },
        "id": "7sr26xvVP-cD",
        "outputId": "fbb90eb1-43ea-42bf-a7d3-006bb59a32dc"
      },
      "source": [
        "from sklearn.ensemble import GradientBoostingRegressor\n",
        "\n",
        "gbrt = GradientBoostingRegressor(max_depth=2, n_estimators=3, learning_rate=1.0)\n",
        "gbrt.fit(X, y)"
      ],
      "execution_count": 18,
      "outputs": [
        {
          "output_type": "execute_result",
          "data": {
            "text/plain": [
              "GradientBoostingRegressor(learning_rate=1.0, max_depth=2, n_estimators=3)"
            ]
          },
          "metadata": {},
          "execution_count": 18
        }
      ]
    },
    {
      "cell_type": "code",
      "metadata": {
        "colab": {
          "base_uri": "https://localhost:8080/"
        },
        "id": "pyaiFlOuQES5",
        "outputId": "ae8efd73-b7d4-4d50-f8f0-b6ce64ca6fb1"
      },
      "source": [
        "import numpy as np\n",
        "from sklearn.model_selection import train_test_split\n",
        "from sklearn.metrics import mean_squared_error\n",
        "\n",
        "X_train, X_val, y_train, y_val = train_test_split(X, y)\n",
        "\n",
        "gbrt = GradientBoostingRegressor(max_depth=2, n_estimators=120,)\n",
        "gbrt.fit(X_train, y_train)\n",
        "\n",
        "errors = [mean_squared_error(y_val, y_pred)\n",
        "          for y_pred in gbrt.staged_predict(X_val)]\n",
        "bst_n_estimators = np.argmin(errors)\n",
        "\n",
        "gbrt_best = GradientBoostingRegressor(max_depth=2,n_estimators=bst_n_estimators)\n",
        "gbrt_best.fit(X_train, y_train)"
      ],
      "execution_count": 19,
      "outputs": [
        {
          "output_type": "execute_result",
          "data": {
            "text/plain": [
              "GradientBoostingRegressor(max_depth=2, n_estimators=107)"
            ]
          },
          "metadata": {},
          "execution_count": 19
        }
      ]
    },
    {
      "cell_type": "code",
      "metadata": {
        "id": "rVUU2Pd2QEQe"
      },
      "source": [
        "gbrt = GradientBoostingRegressor(max_depth=2, warm_start=True)\n",
        "\n",
        "min_val_error = float(\"inf\")\n",
        "error_going_up = 0\n",
        "for n_estimators in range(1, 120):\n",
        "    gbrt.n_estimators = n_estimators\n",
        "    gbrt.fit(X_train, y_train)\n",
        "    y_pred = gbrt.predict(X_val)\n",
        "    val_error = mean_squared_error(y_val, y_pred)\n",
        "    if val_error < min_val_error:\n",
        "        min_val_error = val_error\n",
        "        error_going_up = 0\n",
        "    else:\n",
        "        error_going_up += 1\n",
        "        if error_going_up == 5:\n",
        "            break  # 조기 종료"
      ],
      "execution_count": 20,
      "outputs": []
    },
    {
      "cell_type": "code",
      "metadata": {
        "colab": {
          "base_uri": "https://localhost:8080/"
        },
        "id": "ESdWp_cbQENs",
        "outputId": "ae8f672d-add1-4c38-db38-fffa793016c4"
      },
      "source": [
        "import xgboost\n",
        "\n",
        "xgb_reg = xgboost.XGBRegressor()\n",
        "xgb_reg.fit(X_train,y_train)\n",
        "y_pred = xgb_reg.predict(X_val)"
      ],
      "execution_count": 21,
      "outputs": [
        {
          "output_type": "stream",
          "name": "stdout",
          "text": [
            "[16:00:05] WARNING: /workspace/src/objective/regression_obj.cu:152: reg:linear is now deprecated in favor of reg:squarederror.\n"
          ]
        }
      ]
    },
    {
      "cell_type": "code",
      "metadata": {
        "colab": {
          "base_uri": "https://localhost:8080/"
        },
        "id": "ome9p43VQEKe",
        "outputId": "273473ba-8b30-4097-f56f-ca3bcd4d44d5"
      },
      "source": [
        "xgb_reg.fit(X_train, y_train, eval_set = [(X_val,y_val)],early_stopping_rounds=2)\n",
        "y_pred = xgb_reg.predict(X_val)"
      ],
      "execution_count": 22,
      "outputs": [
        {
          "output_type": "stream",
          "name": "stdout",
          "text": [
            "[16:00:07] WARNING: /workspace/src/objective/regression_obj.cu:152: reg:linear is now deprecated in favor of reg:squarederror.\n",
            "[0]\tvalidation_0-rmse:0.467425\n",
            "Will train until validation_0-rmse hasn't improved in 2 rounds.\n",
            "[1]\tvalidation_0-rmse:0.439855\n",
            "[2]\tvalidation_0-rmse:0.415817\n",
            "[3]\tvalidation_0-rmse:0.395314\n",
            "[4]\tvalidation_0-rmse:0.377963\n",
            "[5]\tvalidation_0-rmse:0.361861\n",
            "[6]\tvalidation_0-rmse:0.34866\n",
            "[7]\tvalidation_0-rmse:0.337979\n",
            "[8]\tvalidation_0-rmse:0.32774\n",
            "[9]\tvalidation_0-rmse:0.31916\n",
            "[10]\tvalidation_0-rmse:0.312899\n",
            "[11]\tvalidation_0-rmse:0.306829\n",
            "[12]\tvalidation_0-rmse:0.301491\n",
            "[13]\tvalidation_0-rmse:0.297583\n",
            "[14]\tvalidation_0-rmse:0.293627\n",
            "[15]\tvalidation_0-rmse:0.290212\n",
            "[16]\tvalidation_0-rmse:0.287413\n",
            "[17]\tvalidation_0-rmse:0.285059\n",
            "[18]\tvalidation_0-rmse:0.282925\n",
            "[19]\tvalidation_0-rmse:0.278406\n",
            "[20]\tvalidation_0-rmse:0.277246\n",
            "[21]\tvalidation_0-rmse:0.272575\n",
            "[22]\tvalidation_0-rmse:0.270854\n",
            "[23]\tvalidation_0-rmse:0.267572\n",
            "[24]\tvalidation_0-rmse:0.266329\n",
            "[25]\tvalidation_0-rmse:0.265\n",
            "[26]\tvalidation_0-rmse:0.263913\n",
            "[27]\tvalidation_0-rmse:0.261489\n",
            "[28]\tvalidation_0-rmse:0.26067\n",
            "[29]\tvalidation_0-rmse:0.259837\n",
            "[30]\tvalidation_0-rmse:0.259087\n",
            "[31]\tvalidation_0-rmse:0.258402\n",
            "[32]\tvalidation_0-rmse:0.257616\n",
            "[33]\tvalidation_0-rmse:0.257564\n",
            "[34]\tvalidation_0-rmse:0.257268\n",
            "[35]\tvalidation_0-rmse:0.256675\n",
            "[36]\tvalidation_0-rmse:0.256808\n",
            "[37]\tvalidation_0-rmse:0.25685\n",
            "Stopping. Best iteration:\n",
            "[35]\tvalidation_0-rmse:0.256675\n",
            "\n"
          ]
        }
      ]
    },
    {
      "cell_type": "code",
      "metadata": {
        "id": "e79n-4MqRmls"
      },
      "source": [
        ""
      ],
      "execution_count": null,
      "outputs": []
    }
  ]
}