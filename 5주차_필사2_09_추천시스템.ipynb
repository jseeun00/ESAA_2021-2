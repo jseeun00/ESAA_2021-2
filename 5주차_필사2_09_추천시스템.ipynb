{
  "nbformat": 4,
  "nbformat_minor": 0,
  "metadata": {
    "colab": {
      "name": "5주차_필사2_09.추천시스템.ipynb",
      "provenance": [],
      "authorship_tag": "ABX9TyOp3Hz6pk+EfVA3JUt9Pmwn",
      "include_colab_link": true
    },
    "kernelspec": {
      "name": "python3",
      "display_name": "Python 3"
    },
    "language_info": {
      "name": "python"
    }
  },
  "cells": [
    {
      "cell_type": "markdown",
      "metadata": {
        "id": "view-in-github",
        "colab_type": "text"
      },
      "source": [
        "<a href=\"https://colab.research.google.com/github/jseeun00/ESAA_2021-2/blob/main/5%EC%A3%BC%EC%B0%A8_%ED%95%84%EC%82%AC2_09_%EC%B6%94%EC%B2%9C%EC%8B%9C%EC%8A%A4%ED%85%9C.ipynb\" target=\"_parent\"><img src=\"https://colab.research.google.com/assets/colab-badge.svg\" alt=\"Open In Colab\"/></a>"
      ]
    },
    {
      "cell_type": "markdown",
      "metadata": {
        "id": "5GiBzYab6_1v"
      },
      "source": [
        "##**컨텐츠 기반 필터링 실습 – TMDB 5000 Movie Dataset**"
      ]
    },
    {
      "cell_type": "code",
      "metadata": {
        "colab": {
          "base_uri": "https://localhost:8080/"
        },
        "id": "JcWzDp0j6hvr",
        "outputId": "c8abb148-5e5a-434c-91e5-43d1f2a96e43"
      },
      "source": [
        "from google.colab import drive\n",
        "\n",
        "drive.mount('/content/gdrive')"
      ],
      "execution_count": 1,
      "outputs": [
        {
          "output_type": "stream",
          "name": "stdout",
          "text": [
            "Mounted at /content/gdrive\n"
          ]
        }
      ]
    },
    {
      "cell_type": "code",
      "metadata": {
        "colab": {
          "base_uri": "https://localhost:8080/",
          "height": 206
        },
        "id": "iXsGaqet6qH1",
        "outputId": "d67f7e20-122c-4eb4-9508-6c71d6c88c39"
      },
      "source": [
        "import pandas as pd\n",
        "import numpy as np\n",
        "import warnings; warnings.filterwarnings('ignore')\n",
        "\n",
        "movies =pd.read_csv('/content/gdrive/MyDrive/Colab Notebooks/ESAA/5주차/tmdb_5000_movies.csv.zip')\n",
        "print(movies.shape)\n",
        "movies.head(1)"
      ],
      "execution_count": 2,
      "outputs": [
        {
          "output_type": "stream",
          "name": "stdout",
          "text": [
            "(4803, 20)\n"
          ]
        },
        {
          "output_type": "execute_result",
          "data": {
            "text/html": [
              "<div>\n",
              "<style scoped>\n",
              "    .dataframe tbody tr th:only-of-type {\n",
              "        vertical-align: middle;\n",
              "    }\n",
              "\n",
              "    .dataframe tbody tr th {\n",
              "        vertical-align: top;\n",
              "    }\n",
              "\n",
              "    .dataframe thead th {\n",
              "        text-align: right;\n",
              "    }\n",
              "</style>\n",
              "<table border=\"1\" class=\"dataframe\">\n",
              "  <thead>\n",
              "    <tr style=\"text-align: right;\">\n",
              "      <th></th>\n",
              "      <th>budget</th>\n",
              "      <th>genres</th>\n",
              "      <th>homepage</th>\n",
              "      <th>id</th>\n",
              "      <th>keywords</th>\n",
              "      <th>original_language</th>\n",
              "      <th>original_title</th>\n",
              "      <th>overview</th>\n",
              "      <th>popularity</th>\n",
              "      <th>production_companies</th>\n",
              "      <th>production_countries</th>\n",
              "      <th>release_date</th>\n",
              "      <th>revenue</th>\n",
              "      <th>runtime</th>\n",
              "      <th>spoken_languages</th>\n",
              "      <th>status</th>\n",
              "      <th>tagline</th>\n",
              "      <th>title</th>\n",
              "      <th>vote_average</th>\n",
              "      <th>vote_count</th>\n",
              "    </tr>\n",
              "  </thead>\n",
              "  <tbody>\n",
              "    <tr>\n",
              "      <th>0</th>\n",
              "      <td>237000000</td>\n",
              "      <td>[{\"id\": 28, \"name\": \"Action\"}, {\"id\": 12, \"nam...</td>\n",
              "      <td>http://www.avatarmovie.com/</td>\n",
              "      <td>19995</td>\n",
              "      <td>[{\"id\": 1463, \"name\": \"culture clash\"}, {\"id\":...</td>\n",
              "      <td>en</td>\n",
              "      <td>Avatar</td>\n",
              "      <td>In the 22nd century, a paraplegic Marine is di...</td>\n",
              "      <td>150.437577</td>\n",
              "      <td>[{\"name\": \"Ingenious Film Partners\", \"id\": 289...</td>\n",
              "      <td>[{\"iso_3166_1\": \"US\", \"name\": \"United States o...</td>\n",
              "      <td>2009-12-10</td>\n",
              "      <td>2787965087</td>\n",
              "      <td>162.0</td>\n",
              "      <td>[{\"iso_639_1\": \"en\", \"name\": \"English\"}, {\"iso...</td>\n",
              "      <td>Released</td>\n",
              "      <td>Enter the World of Pandora.</td>\n",
              "      <td>Avatar</td>\n",
              "      <td>7.2</td>\n",
              "      <td>11800</td>\n",
              "    </tr>\n",
              "  </tbody>\n",
              "</table>\n",
              "</div>"
            ],
            "text/plain": [
              "      budget  ... vote_count\n",
              "0  237000000  ...      11800\n",
              "\n",
              "[1 rows x 20 columns]"
            ]
          },
          "metadata": {},
          "execution_count": 2
        }
      ]
    },
    {
      "cell_type": "code",
      "metadata": {
        "id": "tn8Q3vWd6qF2"
      },
      "source": [
        "movies_df = movies[['id','title', 'genres', 'vote_average', 'vote_count',\n",
        "                 'popularity', 'keywords', 'overview']]"
      ],
      "execution_count": 3,
      "outputs": []
    },
    {
      "cell_type": "code",
      "metadata": {
        "colab": {
          "base_uri": "https://localhost:8080/",
          "height": 98
        },
        "id": "6fFMYRni6qDh",
        "outputId": "a429d556-a16f-466a-b026-4000008f3982"
      },
      "source": [
        "pd.set_option('max_colwidth', 100)\n",
        "movies_df[['genres','keywords']][:1]"
      ],
      "execution_count": 4,
      "outputs": [
        {
          "output_type": "execute_result",
          "data": {
            "text/html": [
              "<div>\n",
              "<style scoped>\n",
              "    .dataframe tbody tr th:only-of-type {\n",
              "        vertical-align: middle;\n",
              "    }\n",
              "\n",
              "    .dataframe tbody tr th {\n",
              "        vertical-align: top;\n",
              "    }\n",
              "\n",
              "    .dataframe thead th {\n",
              "        text-align: right;\n",
              "    }\n",
              "</style>\n",
              "<table border=\"1\" class=\"dataframe\">\n",
              "  <thead>\n",
              "    <tr style=\"text-align: right;\">\n",
              "      <th></th>\n",
              "      <th>genres</th>\n",
              "      <th>keywords</th>\n",
              "    </tr>\n",
              "  </thead>\n",
              "  <tbody>\n",
              "    <tr>\n",
              "      <th>0</th>\n",
              "      <td>[{\"id\": 28, \"name\": \"Action\"}, {\"id\": 12, \"name\": \"Adventure\"}, {\"id\": 14, \"name\": \"Fantasy\"}, {...</td>\n",
              "      <td>[{\"id\": 1463, \"name\": \"culture clash\"}, {\"id\": 2964, \"name\": \"future\"}, {\"id\": 3386, \"name\": \"sp...</td>\n",
              "    </tr>\n",
              "  </tbody>\n",
              "</table>\n",
              "</div>"
            ],
            "text/plain": [
              "                                                                                                genres                                                                                             keywords\n",
              "0  [{\"id\": 28, \"name\": \"Action\"}, {\"id\": 12, \"name\": \"Adventure\"}, {\"id\": 14, \"name\": \"Fantasy\"}, {...  [{\"id\": 1463, \"name\": \"culture clash\"}, {\"id\": 2964, \"name\": \"future\"}, {\"id\": 3386, \"name\": \"sp..."
            ]
          },
          "metadata": {},
          "execution_count": 4
        }
      ]
    },
    {
      "cell_type": "code",
      "metadata": {
        "id": "hBbR5gVz6qB0"
      },
      "source": [
        "from ast import literal_eval\n",
        "\n",
        "movies_df['genres'] = movies_df['genres'].apply(literal_eval)\n",
        "movies_df['keywords'] = movies_df['keywords'].apply(literal_eval)"
      ],
      "execution_count": 5,
      "outputs": []
    },
    {
      "cell_type": "code",
      "metadata": {
        "colab": {
          "base_uri": "https://localhost:8080/",
          "height": 98
        },
        "id": "23cJNNhz6p_r",
        "outputId": "534387ed-65c5-4eb1-fa87-793caa124eec"
      },
      "source": [
        "movies_df['genres'] = movies_df['genres'].apply(lambda x : [ y['name'] for y in x])\n",
        "movies_df['keywords'] = movies_df['keywords'].apply(lambda x : [ y['name'] for y in x])\n",
        "movies_df[['genres', 'keywords']][:1]"
      ],
      "execution_count": 6,
      "outputs": [
        {
          "output_type": "execute_result",
          "data": {
            "text/html": [
              "<div>\n",
              "<style scoped>\n",
              "    .dataframe tbody tr th:only-of-type {\n",
              "        vertical-align: middle;\n",
              "    }\n",
              "\n",
              "    .dataframe tbody tr th {\n",
              "        vertical-align: top;\n",
              "    }\n",
              "\n",
              "    .dataframe thead th {\n",
              "        text-align: right;\n",
              "    }\n",
              "</style>\n",
              "<table border=\"1\" class=\"dataframe\">\n",
              "  <thead>\n",
              "    <tr style=\"text-align: right;\">\n",
              "      <th></th>\n",
              "      <th>genres</th>\n",
              "      <th>keywords</th>\n",
              "    </tr>\n",
              "  </thead>\n",
              "  <tbody>\n",
              "    <tr>\n",
              "      <th>0</th>\n",
              "      <td>[Action, Adventure, Fantasy, Science Fiction]</td>\n",
              "      <td>[culture clash, future, space war, space colony, society, space travel, futuristic, romance, spa...</td>\n",
              "    </tr>\n",
              "  </tbody>\n",
              "</table>\n",
              "</div>"
            ],
            "text/plain": [
              "                                          genres                                                                                             keywords\n",
              "0  [Action, Adventure, Fantasy, Science Fiction]  [culture clash, future, space war, space colony, society, space travel, futuristic, romance, spa..."
            ]
          },
          "metadata": {},
          "execution_count": 6
        }
      ]
    },
    {
      "cell_type": "code",
      "metadata": {
        "colab": {
          "base_uri": "https://localhost:8080/"
        },
        "id": "r3n33Rf26p9a",
        "outputId": "808b8811-0010-48a8-b905-74baf63b496f"
      },
      "source": [
        "from sklearn.feature_extraction.text import CountVectorizer\n",
        "\n",
        "# CountVectorizer를 적용하기 위해 공백문자로 word 단위가 구분되는 문자열로 변환. \n",
        "movies_df['genres_literal'] = movies_df['genres'].apply(lambda x : (' ').join(x))\n",
        "count_vect = CountVectorizer(min_df=0, ngram_range=(1,2))\n",
        "genre_mat = count_vect.fit_transform(movies_df['genres_literal'])\n",
        "print(genre_mat.shape)"
      ],
      "execution_count": 7,
      "outputs": [
        {
          "output_type": "stream",
          "name": "stdout",
          "text": [
            "(4803, 276)\n"
          ]
        }
      ]
    },
    {
      "cell_type": "code",
      "metadata": {
        "colab": {
          "base_uri": "https://localhost:8080/"
        },
        "id": "S3TPhrin6p6b",
        "outputId": "5517ffbb-1f2c-4364-ac9f-49cf99f3ec10"
      },
      "source": [
        "from sklearn.metrics.pairwise import cosine_similarity\n",
        "\n",
        "genre_sim = cosine_similarity(genre_mat, genre_mat)\n",
        "print(genre_sim.shape)\n",
        "print(genre_sim[:2])"
      ],
      "execution_count": 8,
      "outputs": [
        {
          "output_type": "stream",
          "name": "stdout",
          "text": [
            "(4803, 4803)\n",
            "[[1.         0.59628479 0.4472136  ... 0.         0.         0.        ]\n",
            " [0.59628479 1.         0.4        ... 0.         0.         0.        ]]\n"
          ]
        }
      ]
    },
    {
      "cell_type": "code",
      "metadata": {
        "colab": {
          "base_uri": "https://localhost:8080/"
        },
        "id": "Jmzopfe66p3Y",
        "outputId": "909ede28-d083-4f98-94a1-e25d8695fee8"
      },
      "source": [
        "genre_sim_sorted_ind = genre_sim.argsort()[:, ::-1]\n",
        "print(genre_sim_sorted_ind[:1])"
      ],
      "execution_count": 9,
      "outputs": [
        {
          "output_type": "stream",
          "name": "stdout",
          "text": [
            "[[   0 3494  813 ... 3038 3037 2401]]\n"
          ]
        }
      ]
    },
    {
      "cell_type": "code",
      "metadata": {
        "id": "SmHVJyiM6p1b"
      },
      "source": [
        "def find_sim_movie(df, sorted_ind, title_name, top_n=10):\n",
        "    \n",
        "    # 인자로 입력된 movies_df DataFrame에서 'title' 컬럼이 입력된 title_name 값인 DataFrame추출\n",
        "    title_movie = df[df['title'] == title_name]\n",
        "    \n",
        "    # title_named을 가진 DataFrame의 index 객체를 ndarray로 반환하고 \n",
        "    # sorted_ind 인자로 입력된 genre_sim_sorted_ind 객체에서 유사도 순으로 top_n 개의 index 추출\n",
        "    title_index = title_movie.index.values\n",
        "    similar_indexes = sorted_ind[title_index, :(top_n)]\n",
        "    \n",
        "    # 추출된 top_n index들 출력. top_n index는 2차원 데이터 임. \n",
        "    #dataframe에서 index로 사용하기 위해서 1차원 array로 변경\n",
        "    print(similar_indexes)\n",
        "    similar_indexes = similar_indexes.reshape(-1)\n",
        "    \n",
        "    return df.iloc[similar_indexes]"
      ],
      "execution_count": 10,
      "outputs": []
    },
    {
      "cell_type": "code",
      "metadata": {
        "colab": {
          "base_uri": "https://localhost:8080/",
          "height": 381
        },
        "id": "NTOHYL4g6pzj",
        "outputId": "cd4f4cff-97a2-42d4-f120-e91a8bf702da"
      },
      "source": [
        "similar_movies = find_sim_movie(movies_df, genre_sim_sorted_ind, 'The Godfather',10)\n",
        "similar_movies[['title', 'vote_average']]"
      ],
      "execution_count": 11,
      "outputs": [
        {
          "output_type": "stream",
          "name": "stdout",
          "text": [
            "[[2731 1243 3636 1946 2640 4065 1847 4217  883 3866]]\n"
          ]
        },
        {
          "output_type": "execute_result",
          "data": {
            "text/html": [
              "<div>\n",
              "<style scoped>\n",
              "    .dataframe tbody tr th:only-of-type {\n",
              "        vertical-align: middle;\n",
              "    }\n",
              "\n",
              "    .dataframe tbody tr th {\n",
              "        vertical-align: top;\n",
              "    }\n",
              "\n",
              "    .dataframe thead th {\n",
              "        text-align: right;\n",
              "    }\n",
              "</style>\n",
              "<table border=\"1\" class=\"dataframe\">\n",
              "  <thead>\n",
              "    <tr style=\"text-align: right;\">\n",
              "      <th></th>\n",
              "      <th>title</th>\n",
              "      <th>vote_average</th>\n",
              "    </tr>\n",
              "  </thead>\n",
              "  <tbody>\n",
              "    <tr>\n",
              "      <th>2731</th>\n",
              "      <td>The Godfather: Part II</td>\n",
              "      <td>8.3</td>\n",
              "    </tr>\n",
              "    <tr>\n",
              "      <th>1243</th>\n",
              "      <td>Mean Streets</td>\n",
              "      <td>7.2</td>\n",
              "    </tr>\n",
              "    <tr>\n",
              "      <th>3636</th>\n",
              "      <td>Light Sleeper</td>\n",
              "      <td>5.7</td>\n",
              "    </tr>\n",
              "    <tr>\n",
              "      <th>1946</th>\n",
              "      <td>The Bad Lieutenant: Port of Call - New Orleans</td>\n",
              "      <td>6.0</td>\n",
              "    </tr>\n",
              "    <tr>\n",
              "      <th>2640</th>\n",
              "      <td>Things to Do in Denver When You're Dead</td>\n",
              "      <td>6.7</td>\n",
              "    </tr>\n",
              "    <tr>\n",
              "      <th>4065</th>\n",
              "      <td>Mi America</td>\n",
              "      <td>0.0</td>\n",
              "    </tr>\n",
              "    <tr>\n",
              "      <th>1847</th>\n",
              "      <td>GoodFellas</td>\n",
              "      <td>8.2</td>\n",
              "    </tr>\n",
              "    <tr>\n",
              "      <th>4217</th>\n",
              "      <td>Kids</td>\n",
              "      <td>6.8</td>\n",
              "    </tr>\n",
              "    <tr>\n",
              "      <th>883</th>\n",
              "      <td>Catch Me If You Can</td>\n",
              "      <td>7.7</td>\n",
              "    </tr>\n",
              "    <tr>\n",
              "      <th>3866</th>\n",
              "      <td>City of God</td>\n",
              "      <td>8.1</td>\n",
              "    </tr>\n",
              "  </tbody>\n",
              "</table>\n",
              "</div>"
            ],
            "text/plain": [
              "                                               title  vote_average\n",
              "2731                          The Godfather: Part II           8.3\n",
              "1243                                    Mean Streets           7.2\n",
              "3636                                   Light Sleeper           5.7\n",
              "1946  The Bad Lieutenant: Port of Call - New Orleans           6.0\n",
              "2640         Things to Do in Denver When You're Dead           6.7\n",
              "4065                                      Mi America           0.0\n",
              "1847                                      GoodFellas           8.2\n",
              "4217                                            Kids           6.8\n",
              "883                              Catch Me If You Can           7.7\n",
              "3866                                     City of God           8.1"
            ]
          },
          "metadata": {},
          "execution_count": 11
        }
      ]
    },
    {
      "cell_type": "code",
      "metadata": {
        "colab": {
          "base_uri": "https://localhost:8080/",
          "height": 363
        },
        "id": "7mnHJ49M6pxX",
        "outputId": "5c3b8f1c-5ddf-4980-ec0e-8903adea23f0"
      },
      "source": [
        "movies_df[['title','vote_average','vote_count']].sort_values('vote_average', ascending=False)[:10]"
      ],
      "execution_count": 12,
      "outputs": [
        {
          "output_type": "execute_result",
          "data": {
            "text/html": [
              "<div>\n",
              "<style scoped>\n",
              "    .dataframe tbody tr th:only-of-type {\n",
              "        vertical-align: middle;\n",
              "    }\n",
              "\n",
              "    .dataframe tbody tr th {\n",
              "        vertical-align: top;\n",
              "    }\n",
              "\n",
              "    .dataframe thead th {\n",
              "        text-align: right;\n",
              "    }\n",
              "</style>\n",
              "<table border=\"1\" class=\"dataframe\">\n",
              "  <thead>\n",
              "    <tr style=\"text-align: right;\">\n",
              "      <th></th>\n",
              "      <th>title</th>\n",
              "      <th>vote_average</th>\n",
              "      <th>vote_count</th>\n",
              "    </tr>\n",
              "  </thead>\n",
              "  <tbody>\n",
              "    <tr>\n",
              "      <th>3519</th>\n",
              "      <td>Stiff Upper Lips</td>\n",
              "      <td>10.0</td>\n",
              "      <td>1</td>\n",
              "    </tr>\n",
              "    <tr>\n",
              "      <th>4247</th>\n",
              "      <td>Me You and Five Bucks</td>\n",
              "      <td>10.0</td>\n",
              "      <td>2</td>\n",
              "    </tr>\n",
              "    <tr>\n",
              "      <th>4045</th>\n",
              "      <td>Dancer, Texas Pop. 81</td>\n",
              "      <td>10.0</td>\n",
              "      <td>1</td>\n",
              "    </tr>\n",
              "    <tr>\n",
              "      <th>4662</th>\n",
              "      <td>Little Big Top</td>\n",
              "      <td>10.0</td>\n",
              "      <td>1</td>\n",
              "    </tr>\n",
              "    <tr>\n",
              "      <th>3992</th>\n",
              "      <td>Sardaarji</td>\n",
              "      <td>9.5</td>\n",
              "      <td>2</td>\n",
              "    </tr>\n",
              "    <tr>\n",
              "      <th>2386</th>\n",
              "      <td>One Man's Hero</td>\n",
              "      <td>9.3</td>\n",
              "      <td>2</td>\n",
              "    </tr>\n",
              "    <tr>\n",
              "      <th>2970</th>\n",
              "      <td>There Goes My Baby</td>\n",
              "      <td>8.5</td>\n",
              "      <td>2</td>\n",
              "    </tr>\n",
              "    <tr>\n",
              "      <th>1881</th>\n",
              "      <td>The Shawshank Redemption</td>\n",
              "      <td>8.5</td>\n",
              "      <td>8205</td>\n",
              "    </tr>\n",
              "    <tr>\n",
              "      <th>2796</th>\n",
              "      <td>The Prisoner of Zenda</td>\n",
              "      <td>8.4</td>\n",
              "      <td>11</td>\n",
              "    </tr>\n",
              "    <tr>\n",
              "      <th>3337</th>\n",
              "      <td>The Godfather</td>\n",
              "      <td>8.4</td>\n",
              "      <td>5893</td>\n",
              "    </tr>\n",
              "  </tbody>\n",
              "</table>\n",
              "</div>"
            ],
            "text/plain": [
              "                         title  vote_average  vote_count\n",
              "3519          Stiff Upper Lips          10.0           1\n",
              "4247     Me You and Five Bucks          10.0           2\n",
              "4045     Dancer, Texas Pop. 81          10.0           1\n",
              "4662            Little Big Top          10.0           1\n",
              "3992                 Sardaarji           9.5           2\n",
              "2386            One Man's Hero           9.3           2\n",
              "2970        There Goes My Baby           8.5           2\n",
              "1881  The Shawshank Redemption           8.5        8205\n",
              "2796     The Prisoner of Zenda           8.4          11\n",
              "3337             The Godfather           8.4        5893"
            ]
          },
          "metadata": {},
          "execution_count": 12
        }
      ]
    },
    {
      "cell_type": "code",
      "metadata": {
        "colab": {
          "base_uri": "https://localhost:8080/"
        },
        "id": "Uupudu4z626R",
        "outputId": "cf2984e8-2622-4863-bfb8-a68a4c44a5fd"
      },
      "source": [
        "C = movies_df['vote_average'].mean()\n",
        "m = movies_df['vote_count'].quantile(0.6)\n",
        "print('C:',round(C,3), 'm:',round(m,3))"
      ],
      "execution_count": 13,
      "outputs": [
        {
          "output_type": "stream",
          "name": "stdout",
          "text": [
            "C: 6.092 m: 370.2\n"
          ]
        }
      ]
    },
    {
      "cell_type": "code",
      "metadata": {
        "id": "cV6DFP7q622v"
      },
      "source": [
        "percentile = 0.6\n",
        "m = movies_df['vote_count'].quantile(percentile)\n",
        "C = movies_df['vote_average'].mean()\n",
        "\n",
        "def weighted_vote_average(record):\n",
        "    v = record['vote_count']\n",
        "    R = record['vote_average']\n",
        "    \n",
        "    return ( (v/(v+m)) * R ) + ( (m/(m+v)) * C )   \n",
        "\n",
        "movies_df['weighted_vote'] = movies_df.apply(weighted_vote_average, axis=1)"
      ],
      "execution_count": 14,
      "outputs": []
    },
    {
      "cell_type": "code",
      "metadata": {
        "colab": {
          "base_uri": "https://localhost:8080/",
          "height": 363
        },
        "id": "kixyi58u620f",
        "outputId": "f12806d2-a822-4cf9-81ee-025ef9eaafcc"
      },
      "source": [
        "\n",
        "movies_df[['title','vote_average','weighted_vote','vote_count']].sort_values('weighted_vote',\n",
        "                                                                          ascending=False)[:10]"
      ],
      "execution_count": 15,
      "outputs": [
        {
          "output_type": "execute_result",
          "data": {
            "text/html": [
              "<div>\n",
              "<style scoped>\n",
              "    .dataframe tbody tr th:only-of-type {\n",
              "        vertical-align: middle;\n",
              "    }\n",
              "\n",
              "    .dataframe tbody tr th {\n",
              "        vertical-align: top;\n",
              "    }\n",
              "\n",
              "    .dataframe thead th {\n",
              "        text-align: right;\n",
              "    }\n",
              "</style>\n",
              "<table border=\"1\" class=\"dataframe\">\n",
              "  <thead>\n",
              "    <tr style=\"text-align: right;\">\n",
              "      <th></th>\n",
              "      <th>title</th>\n",
              "      <th>vote_average</th>\n",
              "      <th>weighted_vote</th>\n",
              "      <th>vote_count</th>\n",
              "    </tr>\n",
              "  </thead>\n",
              "  <tbody>\n",
              "    <tr>\n",
              "      <th>1881</th>\n",
              "      <td>The Shawshank Redemption</td>\n",
              "      <td>8.5</td>\n",
              "      <td>8.396052</td>\n",
              "      <td>8205</td>\n",
              "    </tr>\n",
              "    <tr>\n",
              "      <th>3337</th>\n",
              "      <td>The Godfather</td>\n",
              "      <td>8.4</td>\n",
              "      <td>8.263591</td>\n",
              "      <td>5893</td>\n",
              "    </tr>\n",
              "    <tr>\n",
              "      <th>662</th>\n",
              "      <td>Fight Club</td>\n",
              "      <td>8.3</td>\n",
              "      <td>8.216455</td>\n",
              "      <td>9413</td>\n",
              "    </tr>\n",
              "    <tr>\n",
              "      <th>3232</th>\n",
              "      <td>Pulp Fiction</td>\n",
              "      <td>8.3</td>\n",
              "      <td>8.207102</td>\n",
              "      <td>8428</td>\n",
              "    </tr>\n",
              "    <tr>\n",
              "      <th>65</th>\n",
              "      <td>The Dark Knight</td>\n",
              "      <td>8.2</td>\n",
              "      <td>8.136930</td>\n",
              "      <td>12002</td>\n",
              "    </tr>\n",
              "    <tr>\n",
              "      <th>1818</th>\n",
              "      <td>Schindler's List</td>\n",
              "      <td>8.3</td>\n",
              "      <td>8.126069</td>\n",
              "      <td>4329</td>\n",
              "    </tr>\n",
              "    <tr>\n",
              "      <th>3865</th>\n",
              "      <td>Whiplash</td>\n",
              "      <td>8.3</td>\n",
              "      <td>8.123248</td>\n",
              "      <td>4254</td>\n",
              "    </tr>\n",
              "    <tr>\n",
              "      <th>809</th>\n",
              "      <td>Forrest Gump</td>\n",
              "      <td>8.2</td>\n",
              "      <td>8.105954</td>\n",
              "      <td>7927</td>\n",
              "    </tr>\n",
              "    <tr>\n",
              "      <th>2294</th>\n",
              "      <td>Spirited Away</td>\n",
              "      <td>8.3</td>\n",
              "      <td>8.105867</td>\n",
              "      <td>3840</td>\n",
              "    </tr>\n",
              "    <tr>\n",
              "      <th>2731</th>\n",
              "      <td>The Godfather: Part II</td>\n",
              "      <td>8.3</td>\n",
              "      <td>8.079586</td>\n",
              "      <td>3338</td>\n",
              "    </tr>\n",
              "  </tbody>\n",
              "</table>\n",
              "</div>"
            ],
            "text/plain": [
              "                         title  vote_average  weighted_vote  vote_count\n",
              "1881  The Shawshank Redemption           8.5       8.396052        8205\n",
              "3337             The Godfather           8.4       8.263591        5893\n",
              "662                 Fight Club           8.3       8.216455        9413\n",
              "3232              Pulp Fiction           8.3       8.207102        8428\n",
              "65             The Dark Knight           8.2       8.136930       12002\n",
              "1818          Schindler's List           8.3       8.126069        4329\n",
              "3865                  Whiplash           8.3       8.123248        4254\n",
              "809               Forrest Gump           8.2       8.105954        7927\n",
              "2294             Spirited Away           8.3       8.105867        3840\n",
              "2731    The Godfather: Part II           8.3       8.079586        3338"
            ]
          },
          "metadata": {},
          "execution_count": 15
        }
      ]
    },
    {
      "cell_type": "code",
      "metadata": {
        "colab": {
          "base_uri": "https://localhost:8080/",
          "height": 363
        },
        "id": "WMScJ6Ff68Na",
        "outputId": "99669eca-12ba-4d78-c9cd-8223922b51c6"
      },
      "source": [
        "def find_sim_movie(df, sorted_ind, title_name, top_n=10):\n",
        "    title_movie = df[df['title'] == title_name]\n",
        "    title_index = title_movie.index.values\n",
        "    \n",
        "    # top_n의 2배에 해당하는 쟝르 유사성이 높은 index 추출 \n",
        "    similar_indexes = sorted_ind[title_index, :(top_n*2)]\n",
        "    similar_indexes = similar_indexes.reshape(-1)\n",
        "# 기준 영화 index는 제외\n",
        "    similar_indexes = similar_indexes[similar_indexes != title_index]\n",
        "    \n",
        "    # top_n의 2배에 해당하는 후보군에서 weighted_vote 높은 순으로 top_n 만큼 추출 \n",
        "    return df.iloc[similar_indexes].sort_values('weighted_vote', ascending=False)[:top_n]\n",
        "\n",
        "similar_movies = find_sim_movie(movies_df, genre_sim_sorted_ind, 'The Godfather',10)\n",
        "similar_movies[['title', 'vote_average', 'weighted_vote']]"
      ],
      "execution_count": 16,
      "outputs": [
        {
          "output_type": "execute_result",
          "data": {
            "text/html": [
              "<div>\n",
              "<style scoped>\n",
              "    .dataframe tbody tr th:only-of-type {\n",
              "        vertical-align: middle;\n",
              "    }\n",
              "\n",
              "    .dataframe tbody tr th {\n",
              "        vertical-align: top;\n",
              "    }\n",
              "\n",
              "    .dataframe thead th {\n",
              "        text-align: right;\n",
              "    }\n",
              "</style>\n",
              "<table border=\"1\" class=\"dataframe\">\n",
              "  <thead>\n",
              "    <tr style=\"text-align: right;\">\n",
              "      <th></th>\n",
              "      <th>title</th>\n",
              "      <th>vote_average</th>\n",
              "      <th>weighted_vote</th>\n",
              "    </tr>\n",
              "  </thead>\n",
              "  <tbody>\n",
              "    <tr>\n",
              "      <th>2731</th>\n",
              "      <td>The Godfather: Part II</td>\n",
              "      <td>8.3</td>\n",
              "      <td>8.079586</td>\n",
              "    </tr>\n",
              "    <tr>\n",
              "      <th>1847</th>\n",
              "      <td>GoodFellas</td>\n",
              "      <td>8.2</td>\n",
              "      <td>7.976937</td>\n",
              "    </tr>\n",
              "    <tr>\n",
              "      <th>3866</th>\n",
              "      <td>City of God</td>\n",
              "      <td>8.1</td>\n",
              "      <td>7.759693</td>\n",
              "    </tr>\n",
              "    <tr>\n",
              "      <th>1663</th>\n",
              "      <td>Once Upon a Time in America</td>\n",
              "      <td>8.2</td>\n",
              "      <td>7.657811</td>\n",
              "    </tr>\n",
              "    <tr>\n",
              "      <th>883</th>\n",
              "      <td>Catch Me If You Can</td>\n",
              "      <td>7.7</td>\n",
              "      <td>7.557097</td>\n",
              "    </tr>\n",
              "    <tr>\n",
              "      <th>281</th>\n",
              "      <td>American Gangster</td>\n",
              "      <td>7.4</td>\n",
              "      <td>7.141396</td>\n",
              "    </tr>\n",
              "    <tr>\n",
              "      <th>4041</th>\n",
              "      <td>This Is England</td>\n",
              "      <td>7.4</td>\n",
              "      <td>6.739664</td>\n",
              "    </tr>\n",
              "    <tr>\n",
              "      <th>1149</th>\n",
              "      <td>American Hustle</td>\n",
              "      <td>6.8</td>\n",
              "      <td>6.717525</td>\n",
              "    </tr>\n",
              "    <tr>\n",
              "      <th>1243</th>\n",
              "      <td>Mean Streets</td>\n",
              "      <td>7.2</td>\n",
              "      <td>6.626569</td>\n",
              "    </tr>\n",
              "    <tr>\n",
              "      <th>2839</th>\n",
              "      <td>Rounders</td>\n",
              "      <td>6.9</td>\n",
              "      <td>6.530427</td>\n",
              "    </tr>\n",
              "  </tbody>\n",
              "</table>\n",
              "</div>"
            ],
            "text/plain": [
              "                            title  vote_average  weighted_vote\n",
              "2731       The Godfather: Part II           8.3       8.079586\n",
              "1847                   GoodFellas           8.2       7.976937\n",
              "3866                  City of God           8.1       7.759693\n",
              "1663  Once Upon a Time in America           8.2       7.657811\n",
              "883           Catch Me If You Can           7.7       7.557097\n",
              "281             American Gangster           7.4       7.141396\n",
              "4041              This Is England           7.4       6.739664\n",
              "1149              American Hustle           6.8       6.717525\n",
              "1243                 Mean Streets           7.2       6.626569\n",
              "2839                     Rounders           6.9       6.530427"
            ]
          },
          "metadata": {},
          "execution_count": 16
        }
      ]
    }
  ]
}