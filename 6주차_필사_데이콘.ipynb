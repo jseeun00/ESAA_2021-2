{
 "cells": [
  {
   "cell_type": "markdown",
   "metadata": {},
   "source": [
    "# 아마존 리뷰 데이터를 이용한 추천시스템2"
   ]
  },
  {
   "cell_type": "code",
   "execution_count": 1,
   "metadata": {},
   "outputs": [],
   "source": [
    "import numpy as np # linear algebra\n",
    "import pandas as pd # data processing, CSV file I/O (e.g. pd.read_csv)\n",
    "import os\n",
    "from IPython.core.interactiveshell import InteractiveShell\n",
    "InteractiveShell.ast_node_interactivity = \"all\"\n",
    "import math\n",
    "import json\n",
    "import time\n",
    "import matplotlib.pyplot as plt\n",
    "import seaborn as sns\n",
    "from sklearn.metrics.pairwise import cosine_similarity\n",
    "from sklearn.model_selection import train_test_split\n",
    "from sklearn.neighbors import NearestNeighbors\n",
    "# from sklearn.externals import joblib\n",
    "import scipy.sparse\n",
    "from scipy.sparse import csr_matrix\n",
    "from scipy.sparse.linalg import svds\n",
    "import warnings; warnings.simplefilter('ignore')\n",
    "%matplotlib inline\n",
    "\n",
    "for dirname, _, filenames in os.walk('/kaggle/input'):\n",
    "    for filename in filenames:\n",
    "        print(os.path.join(dirname, filename))"
   ]
  },
  {
   "cell_type": "code",
   "execution_count": 2,
   "metadata": {},
   "outputs": [],
   "source": [
    "electronics_data = pd.read_csv(\"./ratings_Electronics (1).csv\",names=['userId', 'productId','Rating','timestamp'])"
   ]
  },
  {
   "cell_type": "code",
   "execution_count": 3,
   "metadata": {},
   "outputs": [
    {
     "data": {
      "text/html": [
       "<div>\n",
       "<style scoped>\n",
       "    .dataframe tbody tr th:only-of-type {\n",
       "        vertical-align: middle;\n",
       "    }\n",
       "\n",
       "    .dataframe tbody tr th {\n",
       "        vertical-align: top;\n",
       "    }\n",
       "\n",
       "    .dataframe thead th {\n",
       "        text-align: right;\n",
       "    }\n",
       "</style>\n",
       "<table border=\"1\" class=\"dataframe\">\n",
       "  <thead>\n",
       "    <tr style=\"text-align: right;\">\n",
       "      <th></th>\n",
       "      <th>userId</th>\n",
       "      <th>productId</th>\n",
       "      <th>Rating</th>\n",
       "      <th>timestamp</th>\n",
       "    </tr>\n",
       "  </thead>\n",
       "  <tbody>\n",
       "    <tr>\n",
       "      <th>0</th>\n",
       "      <td>AKM1MP6P0OYPR</td>\n",
       "      <td>0132793040</td>\n",
       "      <td>5.0</td>\n",
       "      <td>1365811200</td>\n",
       "    </tr>\n",
       "    <tr>\n",
       "      <th>1</th>\n",
       "      <td>A2CX7LUOHB2NDG</td>\n",
       "      <td>0321732944</td>\n",
       "      <td>5.0</td>\n",
       "      <td>1341100800</td>\n",
       "    </tr>\n",
       "    <tr>\n",
       "      <th>2</th>\n",
       "      <td>A2NWSAGRHCP8N5</td>\n",
       "      <td>0439886341</td>\n",
       "      <td>1.0</td>\n",
       "      <td>1367193600</td>\n",
       "    </tr>\n",
       "    <tr>\n",
       "      <th>3</th>\n",
       "      <td>A2WNBOD3WNDNKT</td>\n",
       "      <td>0439886341</td>\n",
       "      <td>3.0</td>\n",
       "      <td>1374451200</td>\n",
       "    </tr>\n",
       "    <tr>\n",
       "      <th>4</th>\n",
       "      <td>A1GI0U4ZRJA8WN</td>\n",
       "      <td>0439886341</td>\n",
       "      <td>1.0</td>\n",
       "      <td>1334707200</td>\n",
       "    </tr>\n",
       "  </tbody>\n",
       "</table>\n",
       "</div>"
      ],
      "text/plain": [
       "           userId   productId  Rating   timestamp\n",
       "0   AKM1MP6P0OYPR  0132793040     5.0  1365811200\n",
       "1  A2CX7LUOHB2NDG  0321732944     5.0  1341100800\n",
       "2  A2NWSAGRHCP8N5  0439886341     1.0  1367193600\n",
       "3  A2WNBOD3WNDNKT  0439886341     3.0  1374451200\n",
       "4  A1GI0U4ZRJA8WN  0439886341     1.0  1334707200"
      ]
     },
     "execution_count": 3,
     "metadata": {},
     "output_type": "execute_result"
    }
   ],
   "source": [
    "electronics_data.head()"
   ]
  },
  {
   "cell_type": "code",
   "execution_count": 4,
   "metadata": {},
   "outputs": [],
   "source": [
    "new_df=electronics_data.groupby(\"productId\").filter(lambda x:x['Rating'].count() >=50)"
   ]
  },
  {
   "cell_type": "code",
   "execution_count": 5,
   "metadata": {},
   "outputs": [],
   "source": [
    "dataframe = pd.DataFrame(new_df)"
   ]
  },
  {
   "cell_type": "code",
   "execution_count": 6,
   "metadata": {},
   "outputs": [],
   "source": [
    "dataframe.to_csv(\"./rating.csv\",index=False)"
   ]
  },
  {
   "cell_type": "code",
   "execution_count": 7,
   "metadata": {},
   "outputs": [],
   "source": [
    "new_df.drop(['timestamp'],axis = 1, inplace = True)"
   ]
  },
  {
   "cell_type": "code",
   "execution_count": 9,
   "metadata": {},
   "outputs": [],
   "source": [
    "from surprise import KNNWithMeans\n",
    "from surprise import Dataset\n",
    "from surprise import accuracy\n",
    "from surprise import Reader\n",
    "import os\n",
    "from surprise.model_selection import train_test_split"
   ]
  },
  {
   "cell_type": "markdown",
   "metadata": {},
   "source": [
    "1) Data 가져오기"
   ]
  },
  {
   "cell_type": "code",
   "execution_count": null,
   "metadata": {},
   "outputs": [],
   "source": [
    "#new_df = new_df.rename(columns={'Unnamed: 0': ''}).set_index('')\n",
    "new_df.head()"
   ]
  },
  {
   "cell_type": "code",
   "execution_count": 10,
   "metadata": {},
   "outputs": [],
   "source": [
    "reader = Reader(rating_scale=(1,5))\n",
    "data = Dataset.load_from_df(new_df,reader)"
   ]
  },
  {
   "cell_type": "markdown",
   "metadata": {},
   "source": [
    "2) Trainset, Testset으로 나누기"
   ]
  },
  {
   "cell_type": "code",
   "execution_count": 11,
   "metadata": {},
   "outputs": [],
   "source": [
    "trainset, testset = train_test_split(data, test_size = 0.3, random_state=10)"
   ]
  },
  {
   "cell_type": "code",
   "execution_count": 16,
   "metadata": {},
   "outputs": [],
   "source": [
    "from surprise import SVD"
   ]
  },
  {
   "cell_type": "markdown",
   "metadata": {},
   "source": [
    "3) SVD를 이용 trainset에 파라미터 맞추기"
   ]
  },
  {
   "cell_type": "code",
   "execution_count": 17,
   "metadata": {},
   "outputs": [
    {
     "data": {
      "text/plain": [
       "<surprise.prediction_algorithms.matrix_factorization.SVD at 0x1df8d186888>"
      ]
     },
     "execution_count": 17,
     "metadata": {},
     "output_type": "execute_result"
    }
   ],
   "source": [
    "algo = SVD(n_factors=5)\n",
    "algo.fit(trainset)"
   ]
  },
  {
   "cell_type": "markdown",
   "metadata": {},
   "source": [
    "4) Test accuracy 측정"
   ]
  },
  {
   "cell_type": "code",
   "execution_count": 18,
   "metadata": {},
   "outputs": [],
   "source": [
    "test_pred = algo.test(testset)"
   ]
  },
  {
   "cell_type": "code",
   "execution_count": 19,
   "metadata": {},
   "outputs": [
    {
     "name": "stdout",
     "output_type": "stream",
     "text": [
      "Item-based Model : Test Set\n",
      "RMSE: 1.2588\n"
     ]
    },
    {
     "data": {
      "text/plain": [
       "1.2588281070364704"
      ]
     },
     "execution_count": 19,
     "metadata": {},
     "output_type": "execute_result"
    }
   ],
   "source": [
    "print(\"Item-based Model : Test Set\")\n",
    "accuracy.rmse(test_pred, verbose=True)"
   ]
  },
  {
   "cell_type": "markdown",
   "metadata": {},
   "source": [
    "Model-based collaborative filtering system"
   ]
  },
  {
   "cell_type": "code",
   "execution_count": 20,
   "metadata": {},
   "outputs": [
    {
     "data": {
      "text/html": [
       "<div>\n",
       "<style scoped>\n",
       "    .dataframe tbody tr th:only-of-type {\n",
       "        vertical-align: middle;\n",
       "    }\n",
       "\n",
       "    .dataframe tbody tr th {\n",
       "        vertical-align: top;\n",
       "    }\n",
       "\n",
       "    .dataframe thead th {\n",
       "        text-align: right;\n",
       "    }\n",
       "</style>\n",
       "<table border=\"1\" class=\"dataframe\">\n",
       "  <thead>\n",
       "    <tr style=\"text-align: right;\">\n",
       "      <th>productId</th>\n",
       "      <th>0972683275</th>\n",
       "      <th>1400501466</th>\n",
       "      <th>1400501520</th>\n",
       "      <th>1400501776</th>\n",
       "      <th>1400532620</th>\n",
       "      <th>1400532655</th>\n",
       "      <th>140053271X</th>\n",
       "      <th>1400532736</th>\n",
       "      <th>1400599997</th>\n",
       "      <th>1400698987</th>\n",
       "      <th>...</th>\n",
       "      <th>B00000JFMK</th>\n",
       "      <th>B00000JHWX</th>\n",
       "      <th>B00000JI4F</th>\n",
       "      <th>B00000JII6</th>\n",
       "      <th>B00000JMUG</th>\n",
       "      <th>B00000JPPI</th>\n",
       "      <th>B00000JSGF</th>\n",
       "      <th>B00000JYLO</th>\n",
       "      <th>B00000JYWQ</th>\n",
       "      <th>B00000K135</th>\n",
       "    </tr>\n",
       "    <tr>\n",
       "      <th>userId</th>\n",
       "      <th></th>\n",
       "      <th></th>\n",
       "      <th></th>\n",
       "      <th></th>\n",
       "      <th></th>\n",
       "      <th></th>\n",
       "      <th></th>\n",
       "      <th></th>\n",
       "      <th></th>\n",
       "      <th></th>\n",
       "      <th></th>\n",
       "      <th></th>\n",
       "      <th></th>\n",
       "      <th></th>\n",
       "      <th></th>\n",
       "      <th></th>\n",
       "      <th></th>\n",
       "      <th></th>\n",
       "      <th></th>\n",
       "      <th></th>\n",
       "      <th></th>\n",
       "    </tr>\n",
       "  </thead>\n",
       "  <tbody>\n",
       "    <tr>\n",
       "      <th>A01852072Z7B68UHLI5UG</th>\n",
       "      <td>0</td>\n",
       "      <td>0</td>\n",
       "      <td>0</td>\n",
       "      <td>0</td>\n",
       "      <td>0</td>\n",
       "      <td>0</td>\n",
       "      <td>0</td>\n",
       "      <td>0</td>\n",
       "      <td>0</td>\n",
       "      <td>0</td>\n",
       "      <td>...</td>\n",
       "      <td>0</td>\n",
       "      <td>0</td>\n",
       "      <td>0</td>\n",
       "      <td>0</td>\n",
       "      <td>0</td>\n",
       "      <td>0</td>\n",
       "      <td>0</td>\n",
       "      <td>0</td>\n",
       "      <td>0</td>\n",
       "      <td>0</td>\n",
       "    </tr>\n",
       "    <tr>\n",
       "      <th>A0266076X6KPZ6CCHGVS</th>\n",
       "      <td>0</td>\n",
       "      <td>0</td>\n",
       "      <td>0</td>\n",
       "      <td>0</td>\n",
       "      <td>0</td>\n",
       "      <td>0</td>\n",
       "      <td>0</td>\n",
       "      <td>0</td>\n",
       "      <td>0</td>\n",
       "      <td>0</td>\n",
       "      <td>...</td>\n",
       "      <td>0</td>\n",
       "      <td>0</td>\n",
       "      <td>0</td>\n",
       "      <td>0</td>\n",
       "      <td>0</td>\n",
       "      <td>0</td>\n",
       "      <td>0</td>\n",
       "      <td>0</td>\n",
       "      <td>0</td>\n",
       "      <td>0</td>\n",
       "    </tr>\n",
       "    <tr>\n",
       "      <th>A0293130VTX2ZXA70JQS</th>\n",
       "      <td>5</td>\n",
       "      <td>0</td>\n",
       "      <td>0</td>\n",
       "      <td>0</td>\n",
       "      <td>0</td>\n",
       "      <td>0</td>\n",
       "      <td>0</td>\n",
       "      <td>0</td>\n",
       "      <td>0</td>\n",
       "      <td>0</td>\n",
       "      <td>...</td>\n",
       "      <td>0</td>\n",
       "      <td>0</td>\n",
       "      <td>0</td>\n",
       "      <td>0</td>\n",
       "      <td>0</td>\n",
       "      <td>0</td>\n",
       "      <td>0</td>\n",
       "      <td>0</td>\n",
       "      <td>0</td>\n",
       "      <td>0</td>\n",
       "    </tr>\n",
       "    <tr>\n",
       "      <th>A030530627MK66BD8V4LN</th>\n",
       "      <td>4</td>\n",
       "      <td>0</td>\n",
       "      <td>0</td>\n",
       "      <td>0</td>\n",
       "      <td>0</td>\n",
       "      <td>0</td>\n",
       "      <td>0</td>\n",
       "      <td>0</td>\n",
       "      <td>0</td>\n",
       "      <td>0</td>\n",
       "      <td>...</td>\n",
       "      <td>0</td>\n",
       "      <td>0</td>\n",
       "      <td>0</td>\n",
       "      <td>0</td>\n",
       "      <td>0</td>\n",
       "      <td>0</td>\n",
       "      <td>0</td>\n",
       "      <td>0</td>\n",
       "      <td>0</td>\n",
       "      <td>0</td>\n",
       "    </tr>\n",
       "    <tr>\n",
       "      <th>A0571176384K8RBNKGF8O</th>\n",
       "      <td>0</td>\n",
       "      <td>0</td>\n",
       "      <td>0</td>\n",
       "      <td>0</td>\n",
       "      <td>0</td>\n",
       "      <td>0</td>\n",
       "      <td>0</td>\n",
       "      <td>0</td>\n",
       "      <td>0</td>\n",
       "      <td>0</td>\n",
       "      <td>...</td>\n",
       "      <td>0</td>\n",
       "      <td>0</td>\n",
       "      <td>0</td>\n",
       "      <td>0</td>\n",
       "      <td>0</td>\n",
       "      <td>0</td>\n",
       "      <td>0</td>\n",
       "      <td>0</td>\n",
       "      <td>0</td>\n",
       "      <td>0</td>\n",
       "    </tr>\n",
       "  </tbody>\n",
       "</table>\n",
       "<p>5 rows × 76 columns</p>\n",
       "</div>"
      ],
      "text/plain": [
       "productId              0972683275  1400501466  1400501520  1400501776  \\\n",
       "userId                                                                  \n",
       "A01852072Z7B68UHLI5UG           0           0           0           0   \n",
       "A0266076X6KPZ6CCHGVS            0           0           0           0   \n",
       "A0293130VTX2ZXA70JQS            5           0           0           0   \n",
       "A030530627MK66BD8V4LN           4           0           0           0   \n",
       "A0571176384K8RBNKGF8O           0           0           0           0   \n",
       "\n",
       "productId              1400532620  1400532655  140053271X  1400532736  \\\n",
       "userId                                                                  \n",
       "A01852072Z7B68UHLI5UG           0           0           0           0   \n",
       "A0266076X6KPZ6CCHGVS            0           0           0           0   \n",
       "A0293130VTX2ZXA70JQS            0           0           0           0   \n",
       "A030530627MK66BD8V4LN           0           0           0           0   \n",
       "A0571176384K8RBNKGF8O           0           0           0           0   \n",
       "\n",
       "productId              1400599997  1400698987  ...  B00000JFMK  B00000JHWX  \\\n",
       "userId                                         ...                           \n",
       "A01852072Z7B68UHLI5UG           0           0  ...           0           0   \n",
       "A0266076X6KPZ6CCHGVS            0           0  ...           0           0   \n",
       "A0293130VTX2ZXA70JQS            0           0  ...           0           0   \n",
       "A030530627MK66BD8V4LN           0           0  ...           0           0   \n",
       "A0571176384K8RBNKGF8O           0           0  ...           0           0   \n",
       "\n",
       "productId              B00000JI4F  B00000JII6  B00000JMUG  B00000JPPI  \\\n",
       "userId                                                                  \n",
       "A01852072Z7B68UHLI5UG           0           0           0           0   \n",
       "A0266076X6KPZ6CCHGVS            0           0           0           0   \n",
       "A0293130VTX2ZXA70JQS            0           0           0           0   \n",
       "A030530627MK66BD8V4LN           0           0           0           0   \n",
       "A0571176384K8RBNKGF8O           0           0           0           0   \n",
       "\n",
       "productId              B00000JSGF  B00000JYLO  B00000JYWQ  B00000K135  \n",
       "userId                                                                 \n",
       "A01852072Z7B68UHLI5UG           0           0           0           0  \n",
       "A0266076X6KPZ6CCHGVS            0           0           0           0  \n",
       "A0293130VTX2ZXA70JQS            0           0           0           0  \n",
       "A030530627MK66BD8V4LN           0           0           0           0  \n",
       "A0571176384K8RBNKGF8O           0           0           0           0  \n",
       "\n",
       "[5 rows x 76 columns]"
      ]
     },
     "execution_count": 20,
     "metadata": {},
     "output_type": "execute_result"
    }
   ],
   "source": [
    "new_df1 = new_df.head(10000)\n",
    "ratings_matrix = new_df1.pivot_table(values ='Rating', index ='userId', columns ='productId',fill_value =0)\n",
    "ratings_matrix.head()"
   ]
  },
  {
   "cell_type": "code",
   "execution_count": 21,
   "metadata": {},
   "outputs": [
    {
     "data": {
      "text/plain": [
       "(9832, 76)"
      ]
     },
     "execution_count": 21,
     "metadata": {},
     "output_type": "execute_result"
    }
   ],
   "source": [
    "ratings_matrix.shape"
   ]
  },
  {
   "cell_type": "code",
   "execution_count": 22,
   "metadata": {},
   "outputs": [
    {
     "data": {
      "text/html": [
       "<div>\n",
       "<style scoped>\n",
       "    .dataframe tbody tr th:only-of-type {\n",
       "        vertical-align: middle;\n",
       "    }\n",
       "\n",
       "    .dataframe tbody tr th {\n",
       "        vertical-align: top;\n",
       "    }\n",
       "\n",
       "    .dataframe thead th {\n",
       "        text-align: right;\n",
       "    }\n",
       "</style>\n",
       "<table border=\"1\" class=\"dataframe\">\n",
       "  <thead>\n",
       "    <tr style=\"text-align: right;\">\n",
       "      <th>userId</th>\n",
       "      <th>A01852072Z7B68UHLI5UG</th>\n",
       "      <th>A0266076X6KPZ6CCHGVS</th>\n",
       "      <th>A0293130VTX2ZXA70JQS</th>\n",
       "      <th>A030530627MK66BD8V4LN</th>\n",
       "      <th>A0571176384K8RBNKGF8O</th>\n",
       "      <th>A0590501PZ7HOWJKBGQ4</th>\n",
       "      <th>A0641581307AKT5MAOU0Q</th>\n",
       "      <th>A076219533YHEV2LJO988</th>\n",
       "      <th>A0821988FXKFYX53V4QG</th>\n",
       "      <th>A099626739FNCRNHIKBCG</th>\n",
       "      <th>...</th>\n",
       "      <th>AZWOPBY75SGAM</th>\n",
       "      <th>AZX0ZDVAFMN78</th>\n",
       "      <th>AZX5LAN9JEAFF</th>\n",
       "      <th>AZX7I110AF0W2</th>\n",
       "      <th>AZXKUK895VGSM</th>\n",
       "      <th>AZXP46IB63PU8</th>\n",
       "      <th>AZYTSU42BZ7TP</th>\n",
       "      <th>AZZGJ2KMWB7R</th>\n",
       "      <th>AZZMV5VT9W7Y8</th>\n",
       "      <th>AZZST8OYL5P4Q</th>\n",
       "    </tr>\n",
       "    <tr>\n",
       "      <th>productId</th>\n",
       "      <th></th>\n",
       "      <th></th>\n",
       "      <th></th>\n",
       "      <th></th>\n",
       "      <th></th>\n",
       "      <th></th>\n",
       "      <th></th>\n",
       "      <th></th>\n",
       "      <th></th>\n",
       "      <th></th>\n",
       "      <th></th>\n",
       "      <th></th>\n",
       "      <th></th>\n",
       "      <th></th>\n",
       "      <th></th>\n",
       "      <th></th>\n",
       "      <th></th>\n",
       "      <th></th>\n",
       "      <th></th>\n",
       "      <th></th>\n",
       "      <th></th>\n",
       "    </tr>\n",
       "  </thead>\n",
       "  <tbody>\n",
       "    <tr>\n",
       "      <th>0972683275</th>\n",
       "      <td>0</td>\n",
       "      <td>0</td>\n",
       "      <td>5</td>\n",
       "      <td>4</td>\n",
       "      <td>0</td>\n",
       "      <td>0</td>\n",
       "      <td>0</td>\n",
       "      <td>0</td>\n",
       "      <td>0</td>\n",
       "      <td>0</td>\n",
       "      <td>...</td>\n",
       "      <td>0</td>\n",
       "      <td>0</td>\n",
       "      <td>0</td>\n",
       "      <td>0</td>\n",
       "      <td>0</td>\n",
       "      <td>0</td>\n",
       "      <td>0</td>\n",
       "      <td>0</td>\n",
       "      <td>0</td>\n",
       "      <td>0</td>\n",
       "    </tr>\n",
       "    <tr>\n",
       "      <th>1400501466</th>\n",
       "      <td>0</td>\n",
       "      <td>0</td>\n",
       "      <td>0</td>\n",
       "      <td>0</td>\n",
       "      <td>0</td>\n",
       "      <td>0</td>\n",
       "      <td>0</td>\n",
       "      <td>0</td>\n",
       "      <td>0</td>\n",
       "      <td>0</td>\n",
       "      <td>...</td>\n",
       "      <td>0</td>\n",
       "      <td>0</td>\n",
       "      <td>0</td>\n",
       "      <td>0</td>\n",
       "      <td>0</td>\n",
       "      <td>0</td>\n",
       "      <td>0</td>\n",
       "      <td>0</td>\n",
       "      <td>0</td>\n",
       "      <td>0</td>\n",
       "    </tr>\n",
       "    <tr>\n",
       "      <th>1400501520</th>\n",
       "      <td>0</td>\n",
       "      <td>0</td>\n",
       "      <td>0</td>\n",
       "      <td>0</td>\n",
       "      <td>0</td>\n",
       "      <td>0</td>\n",
       "      <td>0</td>\n",
       "      <td>0</td>\n",
       "      <td>0</td>\n",
       "      <td>3</td>\n",
       "      <td>...</td>\n",
       "      <td>0</td>\n",
       "      <td>0</td>\n",
       "      <td>0</td>\n",
       "      <td>0</td>\n",
       "      <td>0</td>\n",
       "      <td>0</td>\n",
       "      <td>0</td>\n",
       "      <td>0</td>\n",
       "      <td>0</td>\n",
       "      <td>0</td>\n",
       "    </tr>\n",
       "    <tr>\n",
       "      <th>1400501776</th>\n",
       "      <td>0</td>\n",
       "      <td>0</td>\n",
       "      <td>0</td>\n",
       "      <td>0</td>\n",
       "      <td>0</td>\n",
       "      <td>0</td>\n",
       "      <td>0</td>\n",
       "      <td>0</td>\n",
       "      <td>0</td>\n",
       "      <td>0</td>\n",
       "      <td>...</td>\n",
       "      <td>0</td>\n",
       "      <td>0</td>\n",
       "      <td>0</td>\n",
       "      <td>0</td>\n",
       "      <td>0</td>\n",
       "      <td>0</td>\n",
       "      <td>0</td>\n",
       "      <td>0</td>\n",
       "      <td>1</td>\n",
       "      <td>0</td>\n",
       "    </tr>\n",
       "    <tr>\n",
       "      <th>1400532620</th>\n",
       "      <td>0</td>\n",
       "      <td>0</td>\n",
       "      <td>0</td>\n",
       "      <td>0</td>\n",
       "      <td>0</td>\n",
       "      <td>0</td>\n",
       "      <td>0</td>\n",
       "      <td>0</td>\n",
       "      <td>0</td>\n",
       "      <td>0</td>\n",
       "      <td>...</td>\n",
       "      <td>0</td>\n",
       "      <td>0</td>\n",
       "      <td>0</td>\n",
       "      <td>0</td>\n",
       "      <td>0</td>\n",
       "      <td>0</td>\n",
       "      <td>0</td>\n",
       "      <td>0</td>\n",
       "      <td>0</td>\n",
       "      <td>0</td>\n",
       "    </tr>\n",
       "  </tbody>\n",
       "</table>\n",
       "<p>5 rows × 9832 columns</p>\n",
       "</div>"
      ],
      "text/plain": [
       "userId      A01852072Z7B68UHLI5UG  A0266076X6KPZ6CCHGVS  A0293130VTX2ZXA70JQS  \\\n",
       "productId                                                                       \n",
       "0972683275                      0                     0                     5   \n",
       "1400501466                      0                     0                     0   \n",
       "1400501520                      0                     0                     0   \n",
       "1400501776                      0                     0                     0   \n",
       "1400532620                      0                     0                     0   \n",
       "\n",
       "userId      A030530627MK66BD8V4LN  A0571176384K8RBNKGF8O  \\\n",
       "productId                                                  \n",
       "0972683275                      4                      0   \n",
       "1400501466                      0                      0   \n",
       "1400501520                      0                      0   \n",
       "1400501776                      0                      0   \n",
       "1400532620                      0                      0   \n",
       "\n",
       "userId      A0590501PZ7HOWJKBGQ4  A0641581307AKT5MAOU0Q  \\\n",
       "productId                                                 \n",
       "0972683275                     0                      0   \n",
       "1400501466                     0                      0   \n",
       "1400501520                     0                      0   \n",
       "1400501776                     0                      0   \n",
       "1400532620                     0                      0   \n",
       "\n",
       "userId      A076219533YHEV2LJO988  A0821988FXKFYX53V4QG  \\\n",
       "productId                                                 \n",
       "0972683275                      0                     0   \n",
       "1400501466                      0                     0   \n",
       "1400501520                      0                     0   \n",
       "1400501776                      0                     0   \n",
       "1400532620                      0                     0   \n",
       "\n",
       "userId      A099626739FNCRNHIKBCG  ...  AZWOPBY75SGAM  AZX0ZDVAFMN78  \\\n",
       "productId                          ...                                 \n",
       "0972683275                      0  ...              0              0   \n",
       "1400501466                      0  ...              0              0   \n",
       "1400501520                      3  ...              0              0   \n",
       "1400501776                      0  ...              0              0   \n",
       "1400532620                      0  ...              0              0   \n",
       "\n",
       "userId      AZX5LAN9JEAFF  AZX7I110AF0W2  AZXKUK895VGSM  AZXP46IB63PU8  \\\n",
       "productId                                                                \n",
       "0972683275              0              0              0              0   \n",
       "1400501466              0              0              0              0   \n",
       "1400501520              0              0              0              0   \n",
       "1400501776              0              0              0              0   \n",
       "1400532620              0              0              0              0   \n",
       "\n",
       "userId      AZYTSU42BZ7TP  AZZGJ2KMWB7R  AZZMV5VT9W7Y8  AZZST8OYL5P4Q  \n",
       "productId                                                              \n",
       "0972683275              0             0              0              0  \n",
       "1400501466              0             0              0              0  \n",
       "1400501520              0             0              0              0  \n",
       "1400501776              0             0              1              0  \n",
       "1400532620              0             0              0              0  \n",
       "\n",
       "[5 rows x 9832 columns]"
      ]
     },
     "execution_count": 22,
     "metadata": {},
     "output_type": "execute_result"
    }
   ],
   "source": [
    "X = ratings_matrix.T\n",
    "X.head()"
   ]
  },
  {
   "cell_type": "code",
   "execution_count": 23,
   "metadata": {},
   "outputs": [
    {
     "data": {
      "text/plain": [
       "(76, 9832)"
      ]
     },
     "execution_count": 23,
     "metadata": {},
     "output_type": "execute_result"
    }
   ],
   "source": [
    "X.shape"
   ]
  },
  {
   "cell_type": "code",
   "execution_count": 24,
   "metadata": {},
   "outputs": [
    {
     "data": {
      "text/plain": [
       "Index(['0972683275', '1400501466', '1400501520', '1400501776', '1400532620',\n",
       "       '1400532655', '140053271X', '1400532736', '1400599997', '1400698987',\n",
       "       '3744295508', '6301977173', '7214047977', '8862935293', '9573212919',\n",
       "       '9575871979', '9625993428', '9888002198', '9966694544', '9983891212',\n",
       "       '9984984354', '9985511476', 'B000001OM4', 'B000001OM5', 'B000001OMI',\n",
       "       'B000001ON6', 'B00000DM9W', 'B00000IGBF', 'B00000J05A', 'B00000J061',\n",
       "       'B00000J08Q', 'B00000J0D2', 'B00000J0D5', 'B00000J0D8', 'B00000J1EJ',\n",
       "       'B00000J1EP', 'B00000J1EQ', 'B00000J1F3', 'B00000J1GA', 'B00000J1QK',\n",
       "       'B00000J1QR', 'B00000J1SC', 'B00000J1TX', 'B00000J1U8', 'B00000J1UQ',\n",
       "       'B00000J1V3', 'B00000J1V5', 'B00000J3NF', 'B00000J3Q7', 'B00000J3UJ',\n",
       "       'B00000J434', 'B00000J4EY', 'B00000J4FS', 'B00000J4GE', 'B00000J6WY',\n",
       "       'B00000JBAT', 'B00000JBHP', 'B00000JBPB', 'B00000JCT8', 'B00000JCTO',\n",
       "       'B00000JD34', 'B00000JDF5', 'B00000JDF6', 'B00000JDHV', 'B00000JFE3',\n",
       "       'B00000JFIF', 'B00000JFMK', 'B00000JHWX', 'B00000JI4F', 'B00000JII6',\n",
       "       'B00000JMUG', 'B00000JPPI', 'B00000JSGF', 'B00000JYLO', 'B00000JYWQ',\n",
       "       'B00000K135'],\n",
       "      dtype='object', name='productId')"
      ]
     },
     "execution_count": 24,
     "metadata": {},
     "output_type": "execute_result"
    }
   ],
   "source": [
    "X.index"
   ]
  },
  {
   "cell_type": "code",
   "execution_count": 25,
   "metadata": {},
   "outputs": [],
   "source": [
    "X1 = X"
   ]
  },
  {
   "cell_type": "code",
   "execution_count": 26,
   "metadata": {},
   "outputs": [
    {
     "data": {
      "text/plain": [
       "(76, 10)"
      ]
     },
     "execution_count": 26,
     "metadata": {},
     "output_type": "execute_result"
    }
   ],
   "source": [
    "from sklearn.decomposition import TruncatedSVD\n",
    "SVD = TruncatedSVD(n_components=10)\n",
    "decomposed_matrix = SVD.fit_transform(X)\n",
    "decomposed_matrix.shape"
   ]
  },
  {
   "cell_type": "code",
   "execution_count": 27,
   "metadata": {},
   "outputs": [
    {
     "data": {
      "text/plain": [
       "array([[ 1.48104508e+02, -1.54638077e-01,  2.45492421e-02,\n",
       "         3.65918078e-04, -1.34194353e-01,  1.41763626e-05,\n",
       "         4.60094834e-02,  3.56239326e-04,  4.07480155e-03,\n",
       "        -8.11605698e-02],\n",
       "       [ 6.80453163e-04,  1.28295155e+00,  1.48057118e+00,\n",
       "         2.08219047e-01,  8.28975976e-03,  8.86177592e-03,\n",
       "         3.57551548e-02, -4.42706953e-02,  6.14064555e+01,\n",
       "         1.89006083e+00],\n",
       "       [ 4.43992745e-05,  1.01148204e-01,  3.11495322e-01,\n",
       "         6.08396309e-03,  2.93863491e-03,  1.07948330e-02,\n",
       "         2.76627510e-02,  7.28417321e-02,  1.50373280e+00,\n",
       "        -1.55221139e-01],\n",
       "       [ 5.11095161e-04,  7.71818621e-01,  4.91908718e-01,\n",
       "        -3.88870040e-02, -5.21206520e-03,  3.50569076e-02,\n",
       "        -6.95082374e-02, -3.95371574e-01,  4.09948099e+00,\n",
       "        -1.76756109e+00],\n",
       "       [ 4.57457239e-04,  7.98231476e-01,  1.08892000e+00,\n",
       "         9.37849602e-03,  1.39237466e-02,  2.37408145e-02,\n",
       "         4.53151272e-02, -1.79826507e-01, -6.77194356e-01,\n",
       "        -1.48221653e+00],\n",
       "       [ 2.62252469e-01,  8.72494498e+01, -1.42225984e+01,\n",
       "        -1.35642934e-02,  1.28141383e-03, -7.04220903e-04,\n",
       "        -6.48081201e-03,  6.85658813e-03, -7.70422409e-01,\n",
       "         1.89520166e-02],\n",
       "       [ 1.02467600e-03,  1.45181765e+01,  8.52276760e+01,\n",
       "        -5.23398694e-02, -2.58964111e-02, -1.20871415e-03,\n",
       "        -1.29776403e-02,  1.13416751e-02, -1.23201877e+00,\n",
       "         2.21251755e-02],\n",
       "       [ 1.33075802e-05,  6.64618399e-02,  4.07307645e-01,\n",
       "         8.32613920e-03,  1.84641517e-03,  7.07177788e-04,\n",
       "         1.87382204e-02,  3.30743125e-03,  4.68884571e-01,\n",
       "         1.14293340e-01],\n",
       "       [ 5.56217518e-04,  7.73588862e-01, -8.88958751e-02,\n",
       "         1.12079426e-02,  4.30146292e-03,  6.70145588e-03,\n",
       "         9.92246899e-03, -4.01133294e-02,  2.99327947e+00,\n",
       "        -5.99754461e-01],\n",
       "       [ 2.93750939e-04,  5.98771477e-01,  7.17150060e-01,\n",
       "        -8.31825615e-02,  1.32871095e-01,  6.68521424e-03,\n",
       "         4.59614161e-01, -5.52011554e-01,  2.03616132e+00,\n",
       "        -2.67739599e+00],\n",
       "       [-2.21327349e-06,  1.10859047e-03, -5.10463861e-04,\n",
       "        -2.45614125e-03, -8.62138853e-04,  3.37608613e-04,\n",
       "         4.20715823e-04,  5.09311455e-03,  5.07587347e-03,\n",
       "        -3.95740548e-02],\n",
       "       [ 6.01782408e-06, -1.66586073e-03,  2.05814692e-03,\n",
       "         1.09772550e-03,  7.77349960e-04,  4.10545948e-03,\n",
       "         3.62732973e-03,  1.88592689e-02,  1.36677428e-03,\n",
       "         4.54131124e-02],\n",
       "       [ 7.18317383e-05, -1.80960689e-02,  3.10161429e-02,\n",
       "         1.03647250e-01,  3.37309662e-02,  3.15913535e-02,\n",
       "         1.16272536e-01,  2.28487611e-01, -3.55382663e-01,\n",
       "         6.33114521e-01],\n",
       "       [ 9.98547461e-06,  1.61625166e-03,  5.26786582e-03,\n",
       "         8.16331187e-03, -3.06826849e-03, -8.60598041e-03,\n",
       "         3.29802032e-02, -1.05179619e-02, -5.51800648e-02,\n",
       "        -1.85050304e-01],\n",
       "       [-7.24240790e-06,  1.11190152e-02, -7.00393041e-03,\n",
       "        -2.14837625e-02,  1.46952903e-03,  2.37987479e-02,\n",
       "         2.08344085e-03, -3.66695579e-01, -1.06224975e+00,\n",
       "        -5.48809484e+00],\n",
       "       [ 9.31410607e-06,  1.78739253e-06, -7.55052209e-03,\n",
       "         6.56310096e-03,  3.78051669e-04, -4.78520946e-03,\n",
       "        -1.97891924e-02, -5.19406898e-02, -6.99020173e-02,\n",
       "        -2.23305090e-02],\n",
       "       [-2.59225683e-05,  2.87896965e-03,  2.67240652e-03,\n",
       "        -4.65897498e-03,  1.50009272e-04, -1.28986480e-02,\n",
       "         8.89981334e-03, -9.98785504e-02, -3.13841090e-01,\n",
       "        -1.55061639e-01],\n",
       "       [-1.54182017e-06,  3.59779020e-04, -6.46329319e-04,\n",
       "        -1.54991929e-03,  4.54523182e-04,  8.74482656e-04,\n",
       "        -3.22519937e-03, -1.56465415e-02, -1.18120289e-02,\n",
       "        -6.46860196e-02],\n",
       "       [-2.78276668e-06,  5.75629927e-05, -1.03036116e-03,\n",
       "        -1.59110559e-03, -5.47995114e-04,  1.24261997e-03,\n",
       "        -4.19768594e-03, -1.25902493e-02, -1.40229146e-02,\n",
       "        -2.74508516e-02],\n",
       "       [ 2.02692390e-01,  5.40815027e-03, -1.96370174e-03,\n",
       "        -1.46586195e-02,  1.03262051e-04,  1.80592590e-02,\n",
       "        -1.17781438e-02, -3.31643967e-01, -1.89451704e+00,\n",
       "         5.98727166e+01],\n",
       "       [-1.55743605e-06,  2.39277646e-04,  7.63734207e-05,\n",
       "        -4.10192956e-04, -2.03065309e-04, -2.26760649e-04,\n",
       "        -1.34473858e-03,  4.04936138e-04, -9.58866065e-04,\n",
       "        -6.84498593e-03],\n",
       "       [-1.88627814e-06, -1.41984818e-04,  1.01654403e-03,\n",
       "         1.16323362e-03,  1.68864675e-04, -2.39357955e-03,\n",
       "        -3.50966104e-03, -1.10742600e-02, -5.61906861e-02,\n",
       "         1.14598416e-01],\n",
       "       [ 3.33290631e-06, -1.44562654e-03, -1.52788162e-03,\n",
       "         7.95021332e-04, -5.51223939e-04,  1.14661242e-02,\n",
       "        -4.33461028e-03, -1.71124247e-02,  1.55904827e-02,\n",
       "         1.63192099e-01],\n",
       "       [ 1.86404505e-01,  1.68532418e-02,  4.77873558e-04,\n",
       "        -2.76216712e-02,  3.93231203e-01,  2.98442547e-02,\n",
       "        -9.52102426e-02,  7.11574151e-02, -3.41097889e-01,\n",
       "        -6.59785785e-01],\n",
       "       [ 3.06016026e-07,  1.40937946e-04,  8.00514886e-04,\n",
       "         6.59044957e-03,  2.50523650e-04,  2.01256526e-03,\n",
       "         2.09291305e-04,  4.44081783e-01,  6.90819329e-03,\n",
       "         4.95309601e-03],\n",
       "       [ 3.72656139e-04,  8.15657783e-03,  3.19033783e-03,\n",
       "        -2.67287750e-02, -1.12810883e-03,  6.12626353e-01,\n",
       "        -2.42087589e-02, -2.47658227e-01, -1.98425049e-01,\n",
       "        -2.07996755e+00],\n",
       "       [-7.64130071e-07,  2.04733273e-02,  4.72805493e-02,\n",
       "         8.50820467e+01,  1.83920141e-01, -2.25044884e-02,\n",
       "         3.09469780e-03, -1.37037097e+00, -1.46763838e-01,\n",
       "        -3.34503127e-03],\n",
       "       [-1.02603621e-07,  4.12839202e-04,  1.08821871e-04,\n",
       "        -9.09260235e-04, -3.12432706e-04, -4.84018356e-04,\n",
       "         1.29343553e-04, -3.98960732e-03, -2.47331034e-04,\n",
       "        -2.22929687e-03],\n",
       "       [-5.04330615e-07, -1.62010383e-04,  4.48297501e-04,\n",
       "         3.22876542e-04,  1.11226841e-03, -6.12193188e-04,\n",
       "         4.14473274e-03,  8.13845867e-05,  1.10215070e-03,\n",
       "        -1.46280371e-03],\n",
       "       [-2.77474487e-06,  2.03482454e-03,  1.15550098e-04,\n",
       "         1.69342867e+00,  3.03980241e-03,  3.72683553e-01,\n",
       "        -1.24056372e-02,  6.87913194e+01,  5.15577878e-02,\n",
       "         1.73125793e-01],\n",
       "       [ 8.21388690e-07,  4.85182306e-05,  1.49916073e-04,\n",
       "        -2.77754644e-04, -9.33936136e-05, -3.72255228e-04,\n",
       "         5.38681427e-04, -3.53474830e-05,  6.69711583e-04,\n",
       "         1.18925871e-02],\n",
       "       [-4.32986420e-08, -1.86443437e-04, -2.41062472e-06,\n",
       "        -1.93465793e-04,  2.88523735e-04,  4.72510424e-04,\n",
       "         6.34284643e-05,  7.76162694e-05, -5.12361298e-03,\n",
       "         7.54375346e-04],\n",
       "       [-7.57648178e-07,  1.28767010e-04, -1.06250185e-04,\n",
       "        -3.65252025e-04,  3.86179356e-05,  7.29918307e-04,\n",
       "         5.86037907e-04, -4.12304674e-03, -1.05900096e-02,\n",
       "        -3.79181004e-03],\n",
       "       [-3.60662002e-10,  2.14520919e-07, -2.56504742e-07,\n",
       "         2.47285882e-06,  6.07329076e-07, -8.99674763e-07,\n",
       "         1.22805030e-06,  1.19281102e-05,  5.77746872e-05,\n",
       "         6.30194755e-05],\n",
       "       [ 2.92232747e-07,  3.97786617e-05,  4.65296719e-04,\n",
       "        -2.94698760e-05,  4.54090478e-04, -7.88359183e-04,\n",
       "        -1.13002423e-03,  2.64441951e-03,  1.04577186e-02,\n",
       "         2.44571452e-02],\n",
       "       [ 1.51326488e-06,  2.31498240e-04,  1.17224044e-03,\n",
       "         2.12502165e-03,  1.09999702e-03,  1.91086841e-03,\n",
       "         1.15064234e-02, -1.63032906e-02, -1.32987048e-01,\n",
       "         3.71133301e-03],\n",
       "       [ 4.22880713e-06,  9.43176552e-03,  5.02847410e-03,\n",
       "         9.51955817e-03,  1.72479948e-02,  5.64996574e-02,\n",
       "         4.15534001e-02, -3.84763718e-01, -9.88625480e-01,\n",
       "        -2.45203934e+00],\n",
       "       [-1.02034006e-07,  9.30492468e-04,  1.14082346e-04,\n",
       "        -8.19745594e-04,  7.06213264e-04,  9.26304997e-03,\n",
       "         1.91516546e-03, -2.46188269e-02, -5.53984667e-02,\n",
       "        -1.79290962e-01],\n",
       "       [ 2.34801113e-04, -8.07263198e-05, -1.82599415e-04,\n",
       "        -6.09404447e-04,  2.42408092e-01,  2.42223491e-03,\n",
       "        -1.12155635e-01, -5.94468079e-03, -2.24062001e-03,\n",
       "        -2.66300680e-02],\n",
       "       [ 3.50026364e-05,  3.48407777e-03, -2.04674445e-02,\n",
       "         8.09111861e-03,  5.45830037e-03, -5.16931077e-03,\n",
       "         2.09340876e-02,  5.23326373e-02, -6.14371075e-02,\n",
       "        -2.30658586e-01],\n",
       "       [ 2.38849336e-04, -3.97785579e-05,  1.91550852e-03,\n",
       "         5.88616359e-04,  1.12369951e-01, -3.10907582e-04,\n",
       "         3.11113825e-01,  7.95548132e-03, -2.12227626e-02,\n",
       "         7.70085322e-02],\n",
       "       [-9.70858916e-06, -1.31619505e-03,  6.03550165e-03,\n",
       "        -2.49571352e-04, -2.07157014e-03, -1.75130263e-02,\n",
       "         2.04491811e-02,  1.60994427e-01,  1.90940762e-01,\n",
       "         8.14291243e-01],\n",
       "       [ 6.77743109e-06, -1.84767973e-02,  3.09506239e-02,\n",
       "         7.57989690e-02,  2.80466265e-02,  5.21643765e-02,\n",
       "         1.81738017e-02, -1.76682285e-01, -8.11250080e-01,\n",
       "        -1.28430420e+00],\n",
       "       [-3.88298552e-07,  5.56780291e-05,  7.07523306e-04,\n",
       "         1.39391261e-04, -2.93901365e-04, -8.07235546e-05,\n",
       "         2.01569656e-03,  6.08497072e-04, -9.92626742e-04,\n",
       "        -2.07332230e-02],\n",
       "       [-9.75924921e-05, -6.55341416e-04,  3.27205457e-02,\n",
       "        -4.22620810e-02, -4.10832579e-02, -9.65217604e-02,\n",
       "        -1.67442617e-01, -1.22622017e-01,  1.18805911e+00,\n",
       "        -3.05596499e-01],\n",
       "       [-1.40478757e-06, -5.40628300e-03,  1.65583306e-03,\n",
       "        -2.72532998e-02, -2.74798661e-02, -5.55617835e-03,\n",
       "        -1.15835052e-01,  1.15493585e-01,  9.57638180e-01,\n",
       "         8.30177056e-01],\n",
       "       [ 2.49016165e-01, -7.65509121e-04,  2.00310967e-02,\n",
       "        -1.68449341e-01,  7.85352775e+01, -4.78794904e-02,\n",
       "        -2.94066518e+01,  1.36460472e-03,  8.13191758e-03,\n",
       "         2.30708433e-02],\n",
       "       [-1.75741503e-07, -1.95959913e-04, -1.53128957e-04,\n",
       "         1.03279493e-03,  1.63964845e-03,  2.20433848e-03,\n",
       "         9.01130712e-03, -1.60011741e-02, -3.00989864e-02,\n",
       "        -2.74567975e-02],\n",
       "       [-3.71857503e-06,  1.15751329e-03,  8.28734232e-04,\n",
       "        -1.21701218e-04, -3.25099606e-03, -3.17804242e-03,\n",
       "        -9.89146373e-03,  3.92763329e-01,  1.30952516e-02,\n",
       "         1.12177297e-01],\n",
       "       [-1.23390790e-06, -7.19701534e-05, -8.28387218e-05,\n",
       "        -7.28071652e-04,  9.25921468e-05,  8.45760051e-05,\n",
       "        -2.22956542e-03, -5.07664064e-03,  8.29722406e-03,\n",
       "         2.77343216e-03],\n",
       "       [ 2.33131978e-07,  4.52424927e-03,  6.67898039e-04,\n",
       "        -8.45094785e-03,  8.22435991e-05, -5.04209661e-03,\n",
       "         1.72990372e-02, -3.48563855e-02, -3.86557332e-02,\n",
       "        -8.70930747e-02],\n",
       "       [-3.30529372e-06,  2.13684460e-03, -2.09649151e-03,\n",
       "        -1.21201794e-03,  3.41302048e-03,  2.87086131e-03,\n",
       "         1.63283288e-02, -2.04344002e-02, -2.04401450e-01,\n",
       "        -1.00561271e-01],\n",
       "       [-1.49952387e-05,  2.55963819e-02, -2.53508416e-03,\n",
       "        -5.61227831e-02, -9.13794702e-03, -2.35828350e-02,\n",
       "         5.05689160e-02, -2.10610762e-01, -9.79530142e-02,\n",
       "        -6.65856179e-01],\n",
       "       [ 1.94637710e-04,  2.81360087e-03, -2.48650128e-03,\n",
       "         1.75638775e-02, -3.07669502e-03, -2.51028517e-02,\n",
       "         4.44358616e-02,  6.25190387e-02,  6.44057760e-02,\n",
       "         3.98047399e-01],\n",
       "       [-8.02485027e-07,  2.18666719e-03,  1.23999782e-03,\n",
       "        -2.22071037e-03, -6.45366720e-04, -7.99273998e-03,\n",
       "        -1.48446247e-02,  7.73715043e-03,  7.80545653e-02,\n",
       "         2.67400375e-02],\n",
       "       [-1.36090805e-06,  5.63681923e-04,  7.42955567e-03,\n",
       "         1.17474409e-04, -1.58115927e-03,  1.00497529e-03,\n",
       "         3.28888666e-03, -4.73298215e-02, -2.23760769e-02,\n",
       "         2.85655219e-01],\n",
       "       [ 6.33269056e-07, -3.03890127e-04, -3.42100007e-04,\n",
       "         2.25212339e-03,  2.92849317e-04,  5.87890375e-04,\n",
       "         7.29554259e-04,  1.93924473e-03, -8.85601659e-03,\n",
       "        -1.21127825e-02],\n",
       "       [-5.80892258e-07,  2.10180727e-04, -2.53280705e-04,\n",
       "         4.76325543e-03, -2.35367708e-04,  1.24560556e-03,\n",
       "        -5.62122703e-04,  3.60322725e-01,  7.25943744e-03,\n",
       "        -1.13455155e-02],\n",
       "       [-1.01480568e-06,  4.14018973e-04, -3.97843059e-04,\n",
       "        -8.57563784e-05,  8.19411331e-04,  1.78818440e-03,\n",
       "         5.62793661e-03,  2.64254811e-03, -3.89410177e-02,\n",
       "        -4.40924666e-02],\n",
       "       [-2.46932567e-06,  2.02391048e-03, -3.13922993e-04,\n",
       "        -4.08518588e-03,  1.44677280e-03,  5.16056667e-03,\n",
       "         1.62908071e-02, -9.97929476e-04, -7.17634252e-02,\n",
       "        -1.40985490e-01],\n",
       "       [ 1.41597658e-06, -7.34210031e-04, -1.91282753e-04,\n",
       "         3.31396890e-03,  2.07103627e-03,  5.47726947e-03,\n",
       "         1.90788348e-02,  6.80622137e-03, -8.20506229e-02,\n",
       "        -4.22030796e-02],\n",
       "       [ 7.47856211e-03,  6.22931614e-03,  1.66731279e-02,\n",
       "        -7.42925738e-02,  3.25864366e+01,  9.02883429e-04,\n",
       "         7.08436851e+01,  1.77561975e-02, -1.57384080e-02,\n",
       "         4.86323674e-02],\n",
       "       [ 6.59650382e-04, -4.70590949e-03, -2.14144496e-02,\n",
       "        -1.51900905e-02,  1.13371455e+00,  5.77975827e-01,\n",
       "         4.29517421e-01, -5.37057790e-01, -2.60971302e-01,\n",
       "        -2.43376102e+00],\n",
       "       [-1.40550357e-07, -2.40411849e-04, -4.48147285e-05,\n",
       "         7.40615694e-04,  1.39107188e-03,  2.21864523e-04,\n",
       "         3.37245311e-03, -3.52865660e-03, -1.30808669e-03,\n",
       "         6.12433803e-04],\n",
       "       [ 8.66939494e-08, -1.45601364e-06,  5.17880921e-05,\n",
       "         2.32356914e-04,  5.08551955e-05, -1.13506829e-04,\n",
       "         3.70093845e-04,  4.93058940e-04, -1.56429075e-03,\n",
       "        -1.07026323e-03],\n",
       "       [ 7.33997688e-07, -4.19569250e-04, -1.44018349e-04,\n",
       "        -1.57576731e-04,  8.86855107e-05,  2.14640906e-03,\n",
       "        -1.93977938e-03,  1.44370426e-03,  1.28986351e-02,\n",
       "        -3.62311059e-02],\n",
       "       [-8.79480160e-06,  2.78786075e-03, -1.54596737e-03,\n",
       "        -3.55646352e-03, -8.92038068e-04, -1.80007949e-03,\n",
       "        -4.12159333e-04,  3.51904833e-02, -4.86226449e-02,\n",
       "        -1.81583109e-01],\n",
       "       [ 4.05397867e-07, -3.73290293e-04, -2.61618983e-04,\n",
       "         1.42177922e-03,  4.65595198e-03,  5.74393899e-04,\n",
       "        -8.70643633e-03, -9.17655095e-03,  2.85008803e-02,\n",
       "        -1.30068727e-02],\n",
       "       [ 1.48925437e-06,  1.21809827e-04,  5.13852317e-04,\n",
       "         1.59910628e-02,  3.78745738e-02,  8.05137744e+01,\n",
       "        -2.17057140e-02, -3.12526687e-01, -1.88054528e-03,\n",
       "         2.42683564e-02],\n",
       "       [ 2.59514488e-07, -1.15864221e-05,  1.28611503e-04,\n",
       "         2.03121544e-04,  1.41089061e-05, -1.14117166e-04,\n",
       "         8.98236078e-04,  1.22722534e-03, -2.30471957e-03,\n",
       "         1.41830290e-03],\n",
       "       [-6.84372432e-08, -1.86666646e-05, -2.90547821e-05,\n",
       "         3.24399794e-05,  1.19666431e-05,  9.49257102e-05,\n",
       "        -1.14835828e-04, -9.80911015e-06,  9.58669834e-04,\n",
       "        -9.07161800e-04],\n",
       "       [-8.95491478e-08,  7.91634992e-05,  1.88521091e-05,\n",
       "        -2.89133872e-04, -8.07243942e-05,  1.90365809e-03,\n",
       "        -1.58485247e-04, -1.12617894e-03,  5.34354463e-04,\n",
       "        -1.58506732e-02],\n",
       "       [ 4.54516716e-05, -1.30877189e-02,  1.57023114e-02,\n",
       "         6.67749128e-02,  3.46148060e-01,  2.39758528e-02,\n",
       "         1.12052516e+00,  7.76272320e-02, -9.64656392e-01,\n",
       "         8.30261776e-02],\n",
       "       [ 1.80032967e-04,  1.78403361e-03, -5.14741070e-04,\n",
       "         7.22540185e-04,  2.79046192e-03, -6.43545616e-04,\n",
       "         2.60760223e-03, -5.65259680e-03,  3.94319631e-02,\n",
       "         1.71160224e-02],\n",
       "       [-3.33550335e-06,  1.35117008e-03,  9.22203180e-04,\n",
       "        -4.46010790e-03,  8.48803375e-04, -3.67296716e-03,\n",
       "        -1.70930961e-04, -1.51876705e-02,  8.24639461e-02,\n",
       "         3.76927480e-02],\n",
       "       [ 1.34487815e-06, -7.29525469e-04,  1.68218429e-03,\n",
       "         3.56921705e-04,  9.43787842e-04,  2.98381627e-04,\n",
       "         6.20429067e-04,  1.04301880e-02, -1.72112837e-02,\n",
       "         2.90034227e-02]])"
      ]
     },
     "execution_count": 27,
     "metadata": {},
     "output_type": "execute_result"
    }
   ],
   "source": [
    "decomposed_matrix"
   ]
  },
  {
   "cell_type": "code",
   "execution_count": 28,
   "metadata": {},
   "outputs": [
    {
     "data": {
      "text/plain": [
       "(76, 76)"
      ]
     },
     "execution_count": 28,
     "metadata": {},
     "output_type": "execute_result"
    }
   ],
   "source": [
    "correlation_matrix = np.corrcoef(decomposed_matrix)\n",
    "correlation_matrix.shape"
   ]
  },
  {
   "cell_type": "code",
   "execution_count": 29,
   "metadata": {},
   "outputs": [
    {
     "data": {
      "text/plain": [
       "'B00000K135'"
      ]
     },
     "execution_count": 29,
     "metadata": {},
     "output_type": "execute_result"
    }
   ],
   "source": [
    "X.index[75]"
   ]
  },
  {
   "cell_type": "code",
   "execution_count": 30,
   "metadata": {},
   "outputs": [
    {
     "data": {
      "text/plain": [
       "75"
      ]
     },
     "execution_count": 30,
     "metadata": {},
     "output_type": "execute_result"
    }
   ],
   "source": [
    "i = X.index[75]\n",
    "\n",
    "product_names = list(X.index)\n",
    "product_ID = product_names.index(i) #index구하기\n",
    "product_ID"
   ]
  },
  {
   "cell_type": "code",
   "execution_count": 31,
   "metadata": {},
   "outputs": [
    {
     "data": {
      "text/plain": [
       "(76,)"
      ]
     },
     "execution_count": 31,
     "metadata": {},
     "output_type": "execute_result"
    }
   ],
   "source": [
    "correlation_product_ID = correlation_matrix[product_ID]\n",
    "correlation_product_ID.shape"
   ]
  },
  {
   "cell_type": "code",
   "execution_count": 32,
   "metadata": {},
   "outputs": [
    {
     "data": {
      "text/plain": [
       "array([-0.07798847, -0.58739586, -0.68875145, -0.86859516, -0.42414457,\n",
       "       -0.08768653, -0.03431453, -0.37177437, -0.75376376, -0.96928527,\n",
       "       -0.82091365,  0.87389967,  0.98690845, -0.62234141, -0.71576502,\n",
       "        0.16109698,  0.12085007, -0.76534078, -0.56332488,  0.82381604,\n",
       "       -0.70114599,  0.92571646,  0.71561186, -0.37627057,  0.24092394,\n",
       "       -0.75067448, -0.06967097, -0.59560398, -0.44620187,  0.2418546 ,\n",
       "        0.77741421,  0.69347525,  0.2010449 ,  0.23784316,  0.55818289,\n",
       "        0.5792553 , -0.58770113, -0.65109034, -0.09612698, -0.55761762,\n",
       "        0.16670621,  0.72066788, -0.41302967, -0.76590921, -0.74458688,\n",
       "        0.10846642, -0.02416779, -0.20376178,  0.4499624 , -0.35012525,\n",
       "       -0.58079701,  0.1629437 , -0.7895054 ,  0.75644595, -0.26556154,\n",
       "        0.78503896, -0.27465277,  0.20263528, -0.20937237, -0.46686576,\n",
       "        0.16059203, -0.07632837, -0.69319743,  0.02299961,  0.08006751,\n",
       "       -0.91923725, -0.57271177, -0.82794961, -0.06925699,  0.85481536,\n",
       "       -0.93950576, -0.83930751,  0.36611909, -0.28323571, -0.24795492,\n",
       "        1.        ])"
      ]
     },
     "execution_count": 32,
     "metadata": {},
     "output_type": "execute_result"
    }
   ],
   "source": [
    "correlation_product_ID"
   ]
  },
  {
   "cell_type": "code",
   "execution_count": 33,
   "metadata": {},
   "outputs": [
    {
     "data": {
      "text/plain": [
       "['6301977173',\n",
       " '7214047977',\n",
       " '9983891212',\n",
       " '9985511476',\n",
       " 'B000001OM4',\n",
       " 'B00000J08Q',\n",
       " 'B00000J0D2',\n",
       " 'B00000J1SC',\n",
       " 'B00000J4GE',\n",
       " 'B00000JBAT',\n",
       " 'B00000JII6']"
      ]
     },
     "execution_count": 33,
     "metadata": {},
     "output_type": "execute_result"
    }
   ],
   "source": [
    "Recommend = list(X.index[correlation_product_ID > 0.65]) #피어슨 상관계수가 0.65보다 큰 상품들의 index의 list return\n",
    "\n",
    "Recommend.remove(i) # 이미 구입한 상품은 뺀다\n",
    "\n",
    "Recommend[0:24] #상위 24개 추천"
   ]
  },
  {
   "cell_type": "code",
   "execution_count": 34,
   "metadata": {},
   "outputs": [
    {
     "data": {
      "text/plain": [
       "['6301977173',\n",
       " '7214047977',\n",
       " '9983891212',\n",
       " '9985511476',\n",
       " 'B000001OM4',\n",
       " 'B00000J08Q',\n",
       " 'B00000J0D2',\n",
       " 'B00000J1SC',\n",
       " 'B00000J4GE',\n",
       " 'B00000JBAT',\n",
       " 'B00000JII6']"
      ]
     },
     "execution_count": 34,
     "metadata": {},
     "output_type": "execute_result"
    }
   ],
   "source": [
    "Recommend"
   ]
  }
 ],
 "metadata": {
  "kernelspec": {
   "display_name": "Python 3",
   "language": "python",
   "name": "python3"
  },
  "language_info": {
   "codemirror_mode": {
    "name": "ipython",
    "version": 3
   },
   "file_extension": ".py",
   "mimetype": "text/x-python",
   "name": "python",
   "nbconvert_exporter": "python",
   "pygments_lexer": "ipython3",
   "version": "3.7.6"
  }
 },
 "nbformat": 4,
 "nbformat_minor": 4
}
